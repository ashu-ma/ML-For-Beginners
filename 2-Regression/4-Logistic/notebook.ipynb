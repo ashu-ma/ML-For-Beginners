{
 "cells": [
  {
   "cell_type": "markdown",
   "metadata": {},
   "source": [
    "## Pumpkin Varieties and Color\n",
    "\n",
    "Load up required libraries and dataset. Convert the data to a dataframe containing a subset of the data: \n",
    "\n",
    "Let's look at the relationship between color and variety"
   ]
  },
  {
   "cell_type": "code",
   "execution_count": 1,
   "metadata": {},
   "outputs": [
    {
     "data": {
      "application/vnd.microsoft.datawrangler.viewer.v0+json": {
       "columns": [
        {
         "name": "index",
         "rawType": "int64",
         "type": "integer"
        },
        {
         "name": "City Name",
         "rawType": "object",
         "type": "string"
        },
        {
         "name": "Type",
         "rawType": "object",
         "type": "unknown"
        },
        {
         "name": "Package",
         "rawType": "object",
         "type": "string"
        },
        {
         "name": "Variety",
         "rawType": "object",
         "type": "unknown"
        },
        {
         "name": "Sub Variety",
         "rawType": "object",
         "type": "unknown"
        },
        {
         "name": "Grade",
         "rawType": "float64",
         "type": "float"
        },
        {
         "name": "Date",
         "rawType": "object",
         "type": "string"
        },
        {
         "name": "Low Price",
         "rawType": "float64",
         "type": "float"
        },
        {
         "name": "High Price",
         "rawType": "float64",
         "type": "float"
        },
        {
         "name": "Mostly Low",
         "rawType": "float64",
         "type": "float"
        },
        {
         "name": "Mostly High",
         "rawType": "float64",
         "type": "float"
        },
        {
         "name": "Origin",
         "rawType": "object",
         "type": "string"
        },
        {
         "name": "Origin District",
         "rawType": "object",
         "type": "unknown"
        },
        {
         "name": "Item Size",
         "rawType": "object",
         "type": "string"
        },
        {
         "name": "Color",
         "rawType": "object",
         "type": "unknown"
        },
        {
         "name": "Environment",
         "rawType": "float64",
         "type": "float"
        },
        {
         "name": "Unit of Sale",
         "rawType": "object",
         "type": "unknown"
        },
        {
         "name": "Quality",
         "rawType": "float64",
         "type": "float"
        },
        {
         "name": "Condition",
         "rawType": "float64",
         "type": "float"
        },
        {
         "name": "Appearance",
         "rawType": "float64",
         "type": "float"
        },
        {
         "name": "Storage",
         "rawType": "float64",
         "type": "float"
        },
        {
         "name": "Crop",
         "rawType": "float64",
         "type": "float"
        },
        {
         "name": "Repack",
         "rawType": "object",
         "type": "string"
        },
        {
         "name": "Trans Mode",
         "rawType": "float64",
         "type": "float"
        },
        {
         "name": "Unnamed: 24",
         "rawType": "float64",
         "type": "float"
        },
        {
         "name": "Unnamed: 25",
         "rawType": "object",
         "type": "unknown"
        }
       ],
       "ref": "d9126bb0-b189-4e54-bcd0-658315d4bd74",
       "rows": [
        [
         "0",
         "BALTIMORE",
         null,
         "24 inch bins",
         null,
         null,
         null,
         "4/29/17",
         "270.0",
         "280.0",
         "270.0",
         "280.0",
         "MARYLAND",
         null,
         "lge",
         null,
         null,
         null,
         null,
         null,
         null,
         null,
         null,
         "E",
         null,
         null,
         null
        ],
        [
         "1",
         "BALTIMORE",
         null,
         "24 inch bins",
         null,
         null,
         null,
         "5/6/17",
         "270.0",
         "280.0",
         "270.0",
         "280.0",
         "MARYLAND",
         null,
         "lge",
         null,
         null,
         null,
         null,
         null,
         null,
         null,
         null,
         "E",
         null,
         null,
         null
        ],
        [
         "2",
         "BALTIMORE",
         null,
         "24 inch bins",
         "HOWDEN TYPE",
         null,
         null,
         "9/24/16",
         "160.0",
         "160.0",
         "160.0",
         "160.0",
         "DELAWARE",
         null,
         "med",
         "ORANGE",
         null,
         null,
         null,
         null,
         null,
         null,
         null,
         "N",
         null,
         null,
         null
        ],
        [
         "3",
         "BALTIMORE",
         null,
         "24 inch bins",
         "HOWDEN TYPE",
         null,
         null,
         "9/24/16",
         "160.0",
         "160.0",
         "160.0",
         "160.0",
         "VIRGINIA",
         null,
         "med",
         "ORANGE",
         null,
         null,
         null,
         null,
         null,
         null,
         null,
         "N",
         null,
         null,
         null
        ],
        [
         "4",
         "BALTIMORE",
         null,
         "24 inch bins",
         "HOWDEN TYPE",
         null,
         null,
         "11/5/16",
         "90.0",
         "100.0",
         "90.0",
         "100.0",
         "MARYLAND",
         null,
         "lge",
         "ORANGE",
         null,
         null,
         null,
         null,
         null,
         null,
         null,
         "N",
         null,
         null,
         null
        ]
       ],
       "shape": {
        "columns": 26,
        "rows": 5
       }
      },
      "text/html": [
       "<div>\n",
       "<style scoped>\n",
       "    .dataframe tbody tr th:only-of-type {\n",
       "        vertical-align: middle;\n",
       "    }\n",
       "\n",
       "    .dataframe tbody tr th {\n",
       "        vertical-align: top;\n",
       "    }\n",
       "\n",
       "    .dataframe thead th {\n",
       "        text-align: right;\n",
       "    }\n",
       "</style>\n",
       "<table border=\"1\" class=\"dataframe\">\n",
       "  <thead>\n",
       "    <tr style=\"text-align: right;\">\n",
       "      <th></th>\n",
       "      <th>City Name</th>\n",
       "      <th>Type</th>\n",
       "      <th>Package</th>\n",
       "      <th>Variety</th>\n",
       "      <th>Sub Variety</th>\n",
       "      <th>Grade</th>\n",
       "      <th>Date</th>\n",
       "      <th>Low Price</th>\n",
       "      <th>High Price</th>\n",
       "      <th>Mostly Low</th>\n",
       "      <th>...</th>\n",
       "      <th>Unit of Sale</th>\n",
       "      <th>Quality</th>\n",
       "      <th>Condition</th>\n",
       "      <th>Appearance</th>\n",
       "      <th>Storage</th>\n",
       "      <th>Crop</th>\n",
       "      <th>Repack</th>\n",
       "      <th>Trans Mode</th>\n",
       "      <th>Unnamed: 24</th>\n",
       "      <th>Unnamed: 25</th>\n",
       "    </tr>\n",
       "  </thead>\n",
       "  <tbody>\n",
       "    <tr>\n",
       "      <th>0</th>\n",
       "      <td>BALTIMORE</td>\n",
       "      <td>NaN</td>\n",
       "      <td>24 inch bins</td>\n",
       "      <td>NaN</td>\n",
       "      <td>NaN</td>\n",
       "      <td>NaN</td>\n",
       "      <td>4/29/17</td>\n",
       "      <td>270.0</td>\n",
       "      <td>280.0</td>\n",
       "      <td>270.0</td>\n",
       "      <td>...</td>\n",
       "      <td>NaN</td>\n",
       "      <td>NaN</td>\n",
       "      <td>NaN</td>\n",
       "      <td>NaN</td>\n",
       "      <td>NaN</td>\n",
       "      <td>NaN</td>\n",
       "      <td>E</td>\n",
       "      <td>NaN</td>\n",
       "      <td>NaN</td>\n",
       "      <td>NaN</td>\n",
       "    </tr>\n",
       "    <tr>\n",
       "      <th>1</th>\n",
       "      <td>BALTIMORE</td>\n",
       "      <td>NaN</td>\n",
       "      <td>24 inch bins</td>\n",
       "      <td>NaN</td>\n",
       "      <td>NaN</td>\n",
       "      <td>NaN</td>\n",
       "      <td>5/6/17</td>\n",
       "      <td>270.0</td>\n",
       "      <td>280.0</td>\n",
       "      <td>270.0</td>\n",
       "      <td>...</td>\n",
       "      <td>NaN</td>\n",
       "      <td>NaN</td>\n",
       "      <td>NaN</td>\n",
       "      <td>NaN</td>\n",
       "      <td>NaN</td>\n",
       "      <td>NaN</td>\n",
       "      <td>E</td>\n",
       "      <td>NaN</td>\n",
       "      <td>NaN</td>\n",
       "      <td>NaN</td>\n",
       "    </tr>\n",
       "    <tr>\n",
       "      <th>2</th>\n",
       "      <td>BALTIMORE</td>\n",
       "      <td>NaN</td>\n",
       "      <td>24 inch bins</td>\n",
       "      <td>HOWDEN TYPE</td>\n",
       "      <td>NaN</td>\n",
       "      <td>NaN</td>\n",
       "      <td>9/24/16</td>\n",
       "      <td>160.0</td>\n",
       "      <td>160.0</td>\n",
       "      <td>160.0</td>\n",
       "      <td>...</td>\n",
       "      <td>NaN</td>\n",
       "      <td>NaN</td>\n",
       "      <td>NaN</td>\n",
       "      <td>NaN</td>\n",
       "      <td>NaN</td>\n",
       "      <td>NaN</td>\n",
       "      <td>N</td>\n",
       "      <td>NaN</td>\n",
       "      <td>NaN</td>\n",
       "      <td>NaN</td>\n",
       "    </tr>\n",
       "    <tr>\n",
       "      <th>3</th>\n",
       "      <td>BALTIMORE</td>\n",
       "      <td>NaN</td>\n",
       "      <td>24 inch bins</td>\n",
       "      <td>HOWDEN TYPE</td>\n",
       "      <td>NaN</td>\n",
       "      <td>NaN</td>\n",
       "      <td>9/24/16</td>\n",
       "      <td>160.0</td>\n",
       "      <td>160.0</td>\n",
       "      <td>160.0</td>\n",
       "      <td>...</td>\n",
       "      <td>NaN</td>\n",
       "      <td>NaN</td>\n",
       "      <td>NaN</td>\n",
       "      <td>NaN</td>\n",
       "      <td>NaN</td>\n",
       "      <td>NaN</td>\n",
       "      <td>N</td>\n",
       "      <td>NaN</td>\n",
       "      <td>NaN</td>\n",
       "      <td>NaN</td>\n",
       "    </tr>\n",
       "    <tr>\n",
       "      <th>4</th>\n",
       "      <td>BALTIMORE</td>\n",
       "      <td>NaN</td>\n",
       "      <td>24 inch bins</td>\n",
       "      <td>HOWDEN TYPE</td>\n",
       "      <td>NaN</td>\n",
       "      <td>NaN</td>\n",
       "      <td>11/5/16</td>\n",
       "      <td>90.0</td>\n",
       "      <td>100.0</td>\n",
       "      <td>90.0</td>\n",
       "      <td>...</td>\n",
       "      <td>NaN</td>\n",
       "      <td>NaN</td>\n",
       "      <td>NaN</td>\n",
       "      <td>NaN</td>\n",
       "      <td>NaN</td>\n",
       "      <td>NaN</td>\n",
       "      <td>N</td>\n",
       "      <td>NaN</td>\n",
       "      <td>NaN</td>\n",
       "      <td>NaN</td>\n",
       "    </tr>\n",
       "  </tbody>\n",
       "</table>\n",
       "<p>5 rows × 26 columns</p>\n",
       "</div>"
      ],
      "text/plain": [
       "   City Name Type       Package      Variety Sub Variety  Grade     Date  \\\n",
       "0  BALTIMORE  NaN  24 inch bins          NaN         NaN    NaN  4/29/17   \n",
       "1  BALTIMORE  NaN  24 inch bins          NaN         NaN    NaN   5/6/17   \n",
       "2  BALTIMORE  NaN  24 inch bins  HOWDEN TYPE         NaN    NaN  9/24/16   \n",
       "3  BALTIMORE  NaN  24 inch bins  HOWDEN TYPE         NaN    NaN  9/24/16   \n",
       "4  BALTIMORE  NaN  24 inch bins  HOWDEN TYPE         NaN    NaN  11/5/16   \n",
       "\n",
       "   Low Price  High Price  Mostly Low  ...  Unit of Sale Quality Condition  \\\n",
       "0      270.0       280.0       270.0  ...           NaN     NaN       NaN   \n",
       "1      270.0       280.0       270.0  ...           NaN     NaN       NaN   \n",
       "2      160.0       160.0       160.0  ...           NaN     NaN       NaN   \n",
       "3      160.0       160.0       160.0  ...           NaN     NaN       NaN   \n",
       "4       90.0       100.0        90.0  ...           NaN     NaN       NaN   \n",
       "\n",
       "  Appearance Storage  Crop Repack  Trans Mode  Unnamed: 24  Unnamed: 25  \n",
       "0        NaN     NaN   NaN      E         NaN          NaN          NaN  \n",
       "1        NaN     NaN   NaN      E         NaN          NaN          NaN  \n",
       "2        NaN     NaN   NaN      N         NaN          NaN          NaN  \n",
       "3        NaN     NaN   NaN      N         NaN          NaN          NaN  \n",
       "4        NaN     NaN   NaN      N         NaN          NaN          NaN  \n",
       "\n",
       "[5 rows x 26 columns]"
      ]
     },
     "execution_count": 1,
     "metadata": {},
     "output_type": "execute_result"
    }
   ],
   "source": [
    "import pandas as pd\n",
    "import numpy as np\n",
    "\n",
    "full_pumpkins = pd.read_csv('../data/US-pumpkins.csv')\n",
    "\n",
    "full_pumpkins.head()\n"
   ]
  },
  {
   "cell_type": "code",
   "execution_count": 2,
   "metadata": {},
   "outputs": [
    {
     "data": {
      "application/vnd.microsoft.datawrangler.viewer.v0+json": {
       "columns": [
        {
         "name": "index",
         "rawType": "int64",
         "type": "integer"
        },
        {
         "name": "City Name",
         "rawType": "object",
         "type": "string"
        },
        {
         "name": "Package",
         "rawType": "object",
         "type": "string"
        },
        {
         "name": "Variety",
         "rawType": "object",
         "type": "string"
        },
        {
         "name": "Origin",
         "rawType": "object",
         "type": "string"
        },
        {
         "name": "Item Size",
         "rawType": "object",
         "type": "string"
        },
        {
         "name": "Color",
         "rawType": "object",
         "type": "string"
        }
       ],
       "ref": "0aca67bb-c777-47a0-b8b5-e08bdd2c0a0e",
       "rows": [
        [
         "2",
         "BALTIMORE",
         "24 inch bins",
         "HOWDEN TYPE",
         "DELAWARE",
         "med",
         "ORANGE"
        ],
        [
         "3",
         "BALTIMORE",
         "24 inch bins",
         "HOWDEN TYPE",
         "VIRGINIA",
         "med",
         "ORANGE"
        ],
        [
         "4",
         "BALTIMORE",
         "24 inch bins",
         "HOWDEN TYPE",
         "MARYLAND",
         "lge",
         "ORANGE"
        ],
        [
         "5",
         "BALTIMORE",
         "24 inch bins",
         "HOWDEN TYPE",
         "MARYLAND",
         "lge",
         "ORANGE"
        ],
        [
         "6",
         "BALTIMORE",
         "36 inch bins",
         "HOWDEN TYPE",
         "MARYLAND",
         "med",
         "ORANGE"
        ]
       ],
       "shape": {
        "columns": 6,
        "rows": 5
       }
      },
      "text/html": [
       "<div>\n",
       "<style scoped>\n",
       "    .dataframe tbody tr th:only-of-type {\n",
       "        vertical-align: middle;\n",
       "    }\n",
       "\n",
       "    .dataframe tbody tr th {\n",
       "        vertical-align: top;\n",
       "    }\n",
       "\n",
       "    .dataframe thead th {\n",
       "        text-align: right;\n",
       "    }\n",
       "</style>\n",
       "<table border=\"1\" class=\"dataframe\">\n",
       "  <thead>\n",
       "    <tr style=\"text-align: right;\">\n",
       "      <th></th>\n",
       "      <th>City Name</th>\n",
       "      <th>Package</th>\n",
       "      <th>Variety</th>\n",
       "      <th>Origin</th>\n",
       "      <th>Item Size</th>\n",
       "      <th>Color</th>\n",
       "    </tr>\n",
       "  </thead>\n",
       "  <tbody>\n",
       "    <tr>\n",
       "      <th>2</th>\n",
       "      <td>BALTIMORE</td>\n",
       "      <td>24 inch bins</td>\n",
       "      <td>HOWDEN TYPE</td>\n",
       "      <td>DELAWARE</td>\n",
       "      <td>med</td>\n",
       "      <td>ORANGE</td>\n",
       "    </tr>\n",
       "    <tr>\n",
       "      <th>3</th>\n",
       "      <td>BALTIMORE</td>\n",
       "      <td>24 inch bins</td>\n",
       "      <td>HOWDEN TYPE</td>\n",
       "      <td>VIRGINIA</td>\n",
       "      <td>med</td>\n",
       "      <td>ORANGE</td>\n",
       "    </tr>\n",
       "    <tr>\n",
       "      <th>4</th>\n",
       "      <td>BALTIMORE</td>\n",
       "      <td>24 inch bins</td>\n",
       "      <td>HOWDEN TYPE</td>\n",
       "      <td>MARYLAND</td>\n",
       "      <td>lge</td>\n",
       "      <td>ORANGE</td>\n",
       "    </tr>\n",
       "    <tr>\n",
       "      <th>5</th>\n",
       "      <td>BALTIMORE</td>\n",
       "      <td>24 inch bins</td>\n",
       "      <td>HOWDEN TYPE</td>\n",
       "      <td>MARYLAND</td>\n",
       "      <td>lge</td>\n",
       "      <td>ORANGE</td>\n",
       "    </tr>\n",
       "    <tr>\n",
       "      <th>6</th>\n",
       "      <td>BALTIMORE</td>\n",
       "      <td>36 inch bins</td>\n",
       "      <td>HOWDEN TYPE</td>\n",
       "      <td>MARYLAND</td>\n",
       "      <td>med</td>\n",
       "      <td>ORANGE</td>\n",
       "    </tr>\n",
       "  </tbody>\n",
       "</table>\n",
       "</div>"
      ],
      "text/plain": [
       "   City Name       Package      Variety    Origin Item Size   Color\n",
       "2  BALTIMORE  24 inch bins  HOWDEN TYPE  DELAWARE       med  ORANGE\n",
       "3  BALTIMORE  24 inch bins  HOWDEN TYPE  VIRGINIA       med  ORANGE\n",
       "4  BALTIMORE  24 inch bins  HOWDEN TYPE  MARYLAND       lge  ORANGE\n",
       "5  BALTIMORE  24 inch bins  HOWDEN TYPE  MARYLAND       lge  ORANGE\n",
       "6  BALTIMORE  36 inch bins  HOWDEN TYPE  MARYLAND       med  ORANGE"
      ]
     },
     "execution_count": 2,
     "metadata": {},
     "output_type": "execute_result"
    }
   ],
   "source": [
    "#columns we want\n",
    "columns_to_select=['City Name','Package','Variety', 'Origin','Item Size', 'Color']\n",
    "pumpkins=full_pumpkins.loc[:,columns_to_select].dropna()\n",
    "pumpkins.head()"
   ]
  },
  {
   "cell_type": "code",
   "execution_count": 3,
   "metadata": {},
   "outputs": [
    {
     "data": {
      "text/plain": [
       "<seaborn.axisgrid.FacetGrid at 0x1ebd1b3caf0>"
      ]
     },
     "execution_count": 3,
     "metadata": {},
     "output_type": "execute_result"
    },
    {
     "data": {
      "image/png": "[encoded data removed]",
      "text/plain": [
       "<Figure size 438.625x360 with 1 Axes>"
      ]
     },
     "metadata": {
      "needs_background": "light"
     },
     "output_type": "display_data"
    }
   ],
   "source": [
    "import seaborn as sns\n",
    "\n",
    "#specify color for each value of the hue variable\n",
    "palette = {\n",
    "'ORANGE': 'orange',\n",
    "'WHITE': 'wheat',\n",
    "}\n",
    "\n",
    "#plot a bar plot to visualize how many pumpkins of each variety are orange or white\n",
    "sns.catplot(\n",
    "data=pumpkins, y=\"Variety\", hue=\"Color\", kind=\"count\",\n",
    "palette=palette, \n",
    ")"
   ]
  },
  {
   "cell_type": "code",
   "execution_count": 4,
   "metadata": {},
   "outputs": [
    {
     "data": {
      "text/plain": [
       "array(['med', 'lge', 'sml', 'xlge', 'med-lge', 'jbo', 'exjbo'],\n",
       "      dtype=object)"
      ]
     },
     "execution_count": 4,
     "metadata": {},
     "output_type": "execute_result"
    }
   ],
   "source": [
    "#different values of the 'item size' column\n",
    "pumpkins['Item Size'].unique()"
   ]
  },
  {
   "cell_type": "code",
   "execution_count": 5,
   "metadata": {},
   "outputs": [],
   "source": [
    "from sklearn.preprocessing import OrdinalEncoder\n",
    "\n",
    "#encode the 'item size' column using ordinal encoder to convert this feature into integers from 0 to 6\n",
    "item_size_categories = [['sml', 'med', 'med-lge', 'lge', 'xlge', 'jbo', 'exjbo']]\n",
    "ordinal_features = ['Item Size']\n",
    "ordinal_encoder = OrdinalEncoder(categories=item_size_categories)"
   ]
  },
  {
   "cell_type": "code",
   "execution_count": 6,
   "metadata": {},
   "outputs": [],
   "source": [
    "from sklearn.preprocessing import OneHotEncoder\n",
    "\n",
    "#encode all other features using one-hot encoder as they do not have an implied order\n",
    "categorical_features = ['City Name', 'Package', 'Variety', 'Origin']\n",
    "categorical_encoder = OneHotEncoder(sparse_output=False)"
   ]
  },
  {
   "cell_type": "code",
   "execution_count": 7,
   "metadata": {},
   "outputs": [
    {
     "data": {
      "application/vnd.microsoft.datawrangler.viewer.v0+json": {
       "columns": [
        {
         "name": "index",
         "rawType": "int64",
         "type": "integer"
        },
        {
         "name": "ord__Item Size",
         "rawType": "float64",
         "type": "float"
        },
        {
         "name": "cat__City Name_ATLANTA",
         "rawType": "float64",
         "type": "float"
        },
        {
         "name": "cat__City Name_BALTIMORE",
         "rawType": "float64",
         "type": "float"
        },
        {
         "name": "cat__City Name_BOSTON",
         "rawType": "float64",
         "type": "float"
        },
        {
         "name": "cat__City Name_CHICAGO",
         "rawType": "float64",
         "type": "float"
        },
        {
         "name": "cat__City Name_COLUMBIA",
         "rawType": "float64",
         "type": "float"
        },
        {
         "name": "cat__City Name_DALLAS",
         "rawType": "float64",
         "type": "float"
        },
        {
         "name": "cat__City Name_DETROIT",
         "rawType": "float64",
         "type": "float"
        },
        {
         "name": "cat__City Name_LOS ANGELES",
         "rawType": "float64",
         "type": "float"
        },
        {
         "name": "cat__City Name_MIAMI",
         "rawType": "float64",
         "type": "float"
        },
        {
         "name": "cat__City Name_NEW YORK",
         "rawType": "float64",
         "type": "float"
        },
        {
         "name": "cat__City Name_PHILADELPHIA",
         "rawType": "float64",
         "type": "float"
        },
        {
         "name": "cat__City Name_SAN FRANCISCO",
         "rawType": "float64",
         "type": "float"
        },
        {
         "name": "cat__City Name_ST. LOUIS",
         "rawType": "float64",
         "type": "float"
        },
        {
         "name": "cat__Package_1 1/9 bushel cartons",
         "rawType": "float64",
         "type": "float"
        },
        {
         "name": "cat__Package_1 1/9 bushel crates",
         "rawType": "float64",
         "type": "float"
        },
        {
         "name": "cat__Package_1/2 bushel cartons",
         "rawType": "float64",
         "type": "float"
        },
        {
         "name": "cat__Package_24 inch bins",
         "rawType": "float64",
         "type": "float"
        },
        {
         "name": "cat__Package_36 inch bins",
         "rawType": "float64",
         "type": "float"
        },
        {
         "name": "cat__Package_bins",
         "rawType": "float64",
         "type": "float"
        },
        {
         "name": "cat__Package_bushel cartons",
         "rawType": "float64",
         "type": "float"
        },
        {
         "name": "cat__Variety_BIG MACK TYPE",
         "rawType": "float64",
         "type": "float"
        },
        {
         "name": "cat__Variety_BLUE TYPE",
         "rawType": "float64",
         "type": "float"
        },
        {
         "name": "cat__Variety_CINDERELLA",
         "rawType": "float64",
         "type": "float"
        },
        {
         "name": "cat__Variety_FAIRYTALE",
         "rawType": "float64",
         "type": "float"
        },
        {
         "name": "cat__Variety_HOWDEN TYPE",
         "rawType": "float64",
         "type": "float"
        },
        {
         "name": "cat__Variety_HOWDEN WHITE TYPE",
         "rawType": "float64",
         "type": "float"
        },
        {
         "name": "cat__Variety_KNUCKLE HEAD",
         "rawType": "float64",
         "type": "float"
        },
        {
         "name": "cat__Variety_MINIATURE",
         "rawType": "float64",
         "type": "float"
        },
        {
         "name": "cat__Variety_PIE TYPE",
         "rawType": "float64",
         "type": "float"
        },
        {
         "name": "cat__Origin_ALABAMA",
         "rawType": "float64",
         "type": "float"
        },
        {
         "name": "cat__Origin_CALIFORNIA",
         "rawType": "float64",
         "type": "float"
        },
        {
         "name": "cat__Origin_CANADA",
         "rawType": "float64",
         "type": "float"
        },
        {
         "name": "cat__Origin_DELAWARE",
         "rawType": "float64",
         "type": "float"
        },
        {
         "name": "cat__Origin_ILLINOIS",
         "rawType": "float64",
         "type": "float"
        },
        {
         "name": "cat__Origin_MARYLAND",
         "rawType": "float64",
         "type": "float"
        },
        {
         "name": "cat__Origin_MASSACHUSETTS",
         "rawType": "float64",
         "type": "float"
        },
        {
         "name": "cat__Origin_MEXICO",
         "rawType": "float64",
         "type": "float"
        },
        {
         "name": "cat__Origin_MICHIGAN",
         "rawType": "float64",
         "type": "float"
        },
        {
         "name": "cat__Origin_NEW JERSEY",
         "rawType": "float64",
         "type": "float"
        },
        {
         "name": "cat__Origin_NEW YORK",
         "rawType": "float64",
         "type": "float"
        },
        {
         "name": "cat__Origin_NORTH CAROLINA",
         "rawType": "float64",
         "type": "float"
        },
        {
         "name": "cat__Origin_OHIO",
         "rawType": "float64",
         "type": "float"
        },
        {
         "name": "cat__Origin_PENNSYLVANIA",
         "rawType": "float64",
         "type": "float"
        },
        {
         "name": "cat__Origin_TENNESSEE",
         "rawType": "float64",
         "type": "float"
        },
        {
         "name": "cat__Origin_TEXAS",
         "rawType": "float64",
         "type": "float"
        },
        {
         "name": "cat__Origin_VERMONT",
         "rawType": "float64",
         "type": "float"
        },
        {
         "name": "cat__Origin_VIRGINIA",
         "rawType": "float64",
         "type": "float"
        }
       ],
       "ref": "12313e83-6345-49a9-ad85-3e0f4b86626f",
       "rows": [
        [
         "2",
         "1.0",
         "0.0",
         "1.0",
         "0.0",
         "0.0",
         "0.0",
         "0.0",
         "0.0",
         "0.0",
         "0.0",
         "0.0",
         "0.0",
         "0.0",
         "0.0",
         "0.0",
         "0.0",
         "0.0",
         "1.0",
         "0.0",
         "0.0",
         "0.0",
         "0.0",
         "0.0",
         "0.0",
         "0.0",
         "1.0",
         "0.0",
         "0.0",
         "0.0",
         "0.0",
         "0.0",
         "0.0",
         "0.0",
         "1.0",
         "0.0",
         "0.0",
         "0.0",
         "0.0",
         "0.0",
         "0.0",
         "0.0",
         "0.0",
         "0.0",
         "0.0",
         "0.0",
         "0.0",
         "0.0",
         "0.0"
        ],
        [
         "3",
         "1.0",
         "0.0",
         "1.0",
         "0.0",
         "0.0",
         "0.0",
         "0.0",
         "0.0",
         "0.0",
         "0.0",
         "0.0",
         "0.0",
         "0.0",
         "0.0",
         "0.0",
         "0.0",
         "0.0",
         "1.0",
         "0.0",
         "0.0",
         "0.0",
         "0.0",
         "0.0",
         "0.0",
         "0.0",
         "1.0",
         "0.0",
         "0.0",
         "0.0",
         "0.0",
         "0.0",
         "0.0",
         "0.0",
         "0.0",
         "0.0",
         "0.0",
         "0.0",
         "0.0",
         "0.0",
         "0.0",
         "0.0",
         "0.0",
         "0.0",
         "0.0",
         "0.0",
         "0.0",
         "0.0",
         "1.0"
        ],
        [
         "4",
         "3.0",
         "0.0",
         "1.0",
         "0.0",
         "0.0",
         "0.0",
         "0.0",
         "0.0",
         "0.0",
         "0.0",
         "0.0",
         "0.0",
         "0.0",
         "0.0",
         "0.0",
         "0.0",
         "0.0",
         "1.0",
         "0.0",
         "0.0",
         "0.0",
         "0.0",
         "0.0",
         "0.0",
         "0.0",
         "1.0",
         "0.0",
         "0.0",
         "0.0",
         "0.0",
         "0.0",
         "0.0",
         "0.0",
         "0.0",
         "0.0",
         "1.0",
         "0.0",
         "0.0",
         "0.0",
         "0.0",
         "0.0",
         "0.0",
         "0.0",
         "0.0",
         "0.0",
         "0.0",
         "0.0",
         "0.0"
        ],
        [
         "5",
         "3.0",
         "0.0",
         "1.0",
         "0.0",
         "0.0",
         "0.0",
         "0.0",
         "0.0",
         "0.0",
         "0.0",
         "0.0",
         "0.0",
         "0.0",
         "0.0",
         "0.0",
         "0.0",
         "0.0",
         "1.0",
         "0.0",
         "0.0",
         "0.0",
         "0.0",
         "0.0",
         "0.0",
         "0.0",
         "1.0",
         "0.0",
         "0.0",
         "0.0",
         "0.0",
         "0.0",
         "0.0",
         "0.0",
         "0.0",
         "0.0",
         "1.0",
         "0.0",
         "0.0",
         "0.0",
         "0.0",
         "0.0",
         "0.0",
         "0.0",
         "0.0",
         "0.0",
         "0.0",
         "0.0",
         "0.0"
        ],
        [
         "6",
         "1.0",
         "0.0",
         "1.0",
         "0.0",
         "0.0",
         "0.0",
         "0.0",
         "0.0",
         "0.0",
         "0.0",
         "0.0",
         "0.0",
         "0.0",
         "0.0",
         "0.0",
         "0.0",
         "0.0",
         "0.0",
         "1.0",
         "0.0",
         "0.0",
         "0.0",
         "0.0",
         "0.0",
         "0.0",
         "1.0",
         "0.0",
         "0.0",
         "0.0",
         "0.0",
         "0.0",
         "0.0",
         "0.0",
         "0.0",
         "0.0",
         "1.0",
         "0.0",
         "0.0",
         "0.0",
         "0.0",
         "0.0",
         "0.0",
         "0.0",
         "0.0",
         "0.0",
         "0.0",
         "0.0",
         "0.0"
        ]
       ],
       "shape": {
        "columns": 48,
        "rows": 5
       }
      },
      "text/html": [
       "<div>\n",
       "<style scoped>\n",
       "    .dataframe tbody tr th:only-of-type {\n",
       "        vertical-align: middle;\n",
       "    }\n",
       "\n",
       "    .dataframe tbody tr th {\n",
       "        vertical-align: top;\n",
       "    }\n",
       "\n",
       "    .dataframe thead th {\n",
       "        text-align: right;\n",
       "    }\n",
       "</style>\n",
       "<table border=\"1\" class=\"dataframe\">\n",
       "  <thead>\n",
       "    <tr style=\"text-align: right;\">\n",
       "      <th></th>\n",
       "      <th>ord__Item Size</th>\n",
       "      <th>cat__City Name_ATLANTA</th>\n",
       "      <th>cat__City Name_BALTIMORE</th>\n",
       "      <th>cat__City Name_BOSTON</th>\n",
       "      <th>cat__City Name_CHICAGO</th>\n",
       "      <th>cat__City Name_COLUMBIA</th>\n",
       "      <th>cat__City Name_DALLAS</th>\n",
       "      <th>cat__City Name_DETROIT</th>\n",
       "      <th>cat__City Name_LOS ANGELES</th>\n",
       "      <th>cat__City Name_MIAMI</th>\n",
       "      <th>...</th>\n",
       "      <th>cat__Origin_MICHIGAN</th>\n",
       "      <th>cat__Origin_NEW JERSEY</th>\n",
       "      <th>cat__Origin_NEW YORK</th>\n",
       "      <th>cat__Origin_NORTH CAROLINA</th>\n",
       "      <th>cat__Origin_OHIO</th>\n",
       "      <th>cat__Origin_PENNSYLVANIA</th>\n",
       "      <th>cat__Origin_TENNESSEE</th>\n",
       "      <th>cat__Origin_TEXAS</th>\n",
       "      <th>cat__Origin_VERMONT</th>\n",
       "      <th>cat__Origin_VIRGINIA</th>\n",
       "    </tr>\n",
       "  </thead>\n",
       "  <tbody>\n",
       "    <tr>\n",
       "      <th>2</th>\n",
       "      <td>1.0</td>\n",
       "      <td>0.0</td>\n",
       "      <td>1.0</td>\n",
       "      <td>0.0</td>\n",
       "      <td>0.0</td>\n",
       "      <td>0.0</td>\n",
       "      <td>0.0</td>\n",
       "      <td>0.0</td>\n",
       "      <td>0.0</td>\n",
       "      <td>0.0</td>\n",
       "      <td>...</td>\n",
       "      <td>0.0</td>\n",
       "      <td>0.0</td>\n",
       "      <td>0.0</td>\n",
       "      <td>0.0</td>\n",
       "      <td>0.0</td>\n",
       "      <td>0.0</td>\n",
       "      <td>0.0</td>\n",
       "      <td>0.0</td>\n",
       "      <td>0.0</td>\n",
       "      <td>0.0</td>\n",
       "    </tr>\n",
       "    <tr>\n",
       "      <th>3</th>\n",
       "      <td>1.0</td>\n",
       "      <td>0.0</td>\n",
       "      <td>1.0</td>\n",
       "      <td>0.0</td>\n",
       "      <td>0.0</td>\n",
       "      <td>0.0</td>\n",
       "      <td>0.0</td>\n",
       "      <td>0.0</td>\n",
       "      <td>0.0</td>\n",
       "      <td>0.0</td>\n",
       "      <td>...</td>\n",
       "      <td>0.0</td>\n",
       "      <td>0.0</td>\n",
       "      <td>0.0</td>\n",
       "      <td>0.0</td>\n",
       "      <td>0.0</td>\n",
       "      <td>0.0</td>\n",
       "      <td>0.0</td>\n",
       "      <td>0.0</td>\n",
       "      <td>0.0</td>\n",
       "      <td>1.0</td>\n",
       "    </tr>\n",
       "    <tr>\n",
       "      <th>4</th>\n",
       "      <td>3.0</td>\n",
       "      <td>0.0</td>\n",
       "      <td>1.0</td>\n",
       "      <td>0.0</td>\n",
       "      <td>0.0</td>\n",
       "      <td>0.0</td>\n",
       "      <td>0.0</td>\n",
       "      <td>0.0</td>\n",
       "      <td>0.0</td>\n",
       "      <td>0.0</td>\n",
       "      <td>...</td>\n",
       "      <td>0.0</td>\n",
       "      <td>0.0</td>\n",
       "      <td>0.0</td>\n",
       "      <td>0.0</td>\n",
       "      <td>0.0</td>\n",
       "      <td>0.0</td>\n",
       "      <td>0.0</td>\n",
       "      <td>0.0</td>\n",
       "      <td>0.0</td>\n",
       "      <td>0.0</td>\n",
       "    </tr>\n",
       "    <tr>\n",
       "      <th>5</th>\n",
       "      <td>3.0</td>\n",
       "      <td>0.0</td>\n",
       "      <td>1.0</td>\n",
       "      <td>0.0</td>\n",
       "      <td>0.0</td>\n",
       "      <td>0.0</td>\n",
       "      <td>0.0</td>\n",
       "      <td>0.0</td>\n",
       "      <td>0.0</td>\n",
       "      <td>0.0</td>\n",
       "      <td>...</td>\n",
       "      <td>0.0</td>\n",
       "      <td>0.0</td>\n",
       "      <td>0.0</td>\n",
       "      <td>0.0</td>\n",
       "      <td>0.0</td>\n",
       "      <td>0.0</td>\n",
       "      <td>0.0</td>\n",
       "      <td>0.0</td>\n",
       "      <td>0.0</td>\n",
       "      <td>0.0</td>\n",
       "    </tr>\n",
       "    <tr>\n",
       "      <th>6</th>\n",
       "      <td>1.0</td>\n",
       "      <td>0.0</td>\n",
       "      <td>1.0</td>\n",
       "      <td>0.0</td>\n",
       "      <td>0.0</td>\n",
       "      <td>0.0</td>\n",
       "      <td>0.0</td>\n",
       "      <td>0.0</td>\n",
       "      <td>0.0</td>\n",
       "      <td>0.0</td>\n",
       "      <td>...</td>\n",
       "      <td>0.0</td>\n",
       "      <td>0.0</td>\n",
       "      <td>0.0</td>\n",
       "      <td>0.0</td>\n",
       "      <td>0.0</td>\n",
       "      <td>0.0</td>\n",
       "      <td>0.0</td>\n",
       "      <td>0.0</td>\n",
       "      <td>0.0</td>\n",
       "      <td>0.0</td>\n",
       "    </tr>\n",
       "  </tbody>\n",
       "</table>\n",
       "<p>5 rows × 48 columns</p>\n",
       "</div>"
      ],
      "text/plain": [
       "   ord__Item Size  cat__City Name_ATLANTA  cat__City Name_BALTIMORE  \\\n",
       "2             1.0                     0.0                       1.0   \n",
       "3             1.0                     0.0                       1.0   \n",
       "4             3.0                     0.0                       1.0   \n",
       "5             3.0                     0.0                       1.0   \n",
       "6             1.0                     0.0                       1.0   \n",
       "\n",
       "   cat__City Name_BOSTON  cat__City Name_CHICAGO  cat__City Name_COLUMBIA  \\\n",
       "2                    0.0                     0.0                      0.0   \n",
       "3                    0.0                     0.0                      0.0   \n",
       "4                    0.0                     0.0                      0.0   \n",
       "5                    0.0                     0.0                      0.0   \n",
       "6                    0.0                     0.0                      0.0   \n",
       "\n",
       "   cat__City Name_DALLAS  cat__City Name_DETROIT  cat__City Name_LOS ANGELES  \\\n",
       "2                    0.0                     0.0                         0.0   \n",
       "3                    0.0                     0.0                         0.0   \n",
       "4                    0.0                     0.0                         0.0   \n",
       "5                    0.0                     0.0                         0.0   \n",
       "6                    0.0                     0.0                         0.0   \n",
       "\n",
       "   cat__City Name_MIAMI  ...  cat__Origin_MICHIGAN  cat__Origin_NEW JERSEY  \\\n",
       "2                   0.0  ...                   0.0                     0.0   \n",
       "3                   0.0  ...                   0.0                     0.0   \n",
       "4                   0.0  ...                   0.0                     0.0   \n",
       "5                   0.0  ...                   0.0                     0.0   \n",
       "6                   0.0  ...                   0.0                     0.0   \n",
       "\n",
       "   cat__Origin_NEW YORK  cat__Origin_NORTH CAROLINA  cat__Origin_OHIO  \\\n",
       "2                   0.0                         0.0               0.0   \n",
       "3                   0.0                         0.0               0.0   \n",
       "4                   0.0                         0.0               0.0   \n",
       "5                   0.0                         0.0               0.0   \n",
       "6                   0.0                         0.0               0.0   \n",
       "\n",
       "   cat__Origin_PENNSYLVANIA  cat__Origin_TENNESSEE  cat__Origin_TEXAS  \\\n",
       "2                       0.0                    0.0                0.0   \n",
       "3                       0.0                    0.0                0.0   \n",
       "4                       0.0                    0.0                0.0   \n",
       "5                       0.0                    0.0                0.0   \n",
       "6                       0.0                    0.0                0.0   \n",
       "\n",
       "   cat__Origin_VERMONT  cat__Origin_VIRGINIA  \n",
       "2                  0.0                   0.0  \n",
       "3                  0.0                   1.0  \n",
       "4                  0.0                   0.0  \n",
       "5                  0.0                   0.0  \n",
       "6                  0.0                   0.0  \n",
       "\n",
       "[5 rows x 48 columns]"
      ]
     },
     "execution_count": 7,
     "metadata": {},
     "output_type": "execute_result"
    }
   ],
   "source": [
    "from sklearn.compose import ColumnTransformer\n",
    "    \n",
    "ct = ColumnTransformer(transformers=[\n",
    "        ('ord', ordinal_encoder, ordinal_features),\n",
    "        ('cat', categorical_encoder, categorical_features)\n",
    "        ])\n",
    "    \n",
    "#get the encoded features as a pandas dataframe\n",
    "ct.set_output(transform='pandas')\n",
    "encoded_features = ct.fit_transform(pumpkins)\n",
    "encoded_features.head()"
   ]
  },
  {
   "cell_type": "code",
   "execution_count": 8,
   "metadata": {},
   "outputs": [
    {
     "data": {
      "application/vnd.microsoft.datawrangler.viewer.v0+json": {
       "columns": [
        {
         "name": "index",
         "rawType": "int64",
         "type": "integer"
        },
        {
         "name": "ord__Item Size",
         "rawType": "float64",
         "type": "float"
        },
        {
         "name": "cat__City Name_ATLANTA",
         "rawType": "float64",
         "type": "float"
        },
        {
         "name": "cat__City Name_BALTIMORE",
         "rawType": "float64",
         "type": "float"
        },
        {
         "name": "cat__City Name_BOSTON",
         "rawType": "float64",
         "type": "float"
        },
        {
         "name": "cat__City Name_CHICAGO",
         "rawType": "float64",
         "type": "float"
        },
        {
         "name": "cat__City Name_COLUMBIA",
         "rawType": "float64",
         "type": "float"
        },
        {
         "name": "cat__City Name_DALLAS",
         "rawType": "float64",
         "type": "float"
        },
        {
         "name": "cat__City Name_DETROIT",
         "rawType": "float64",
         "type": "float"
        },
        {
         "name": "cat__City Name_LOS ANGELES",
         "rawType": "float64",
         "type": "float"
        },
        {
         "name": "cat__City Name_MIAMI",
         "rawType": "float64",
         "type": "float"
        },
        {
         "name": "cat__City Name_NEW YORK",
         "rawType": "float64",
         "type": "float"
        },
        {
         "name": "cat__City Name_PHILADELPHIA",
         "rawType": "float64",
         "type": "float"
        },
        {
         "name": "cat__City Name_SAN FRANCISCO",
         "rawType": "float64",
         "type": "float"
        },
        {
         "name": "cat__City Name_ST. LOUIS",
         "rawType": "float64",
         "type": "float"
        },
        {
         "name": "cat__Package_1 1/9 bushel cartons",
         "rawType": "float64",
         "type": "float"
        },
        {
         "name": "cat__Package_1 1/9 bushel crates",
         "rawType": "float64",
         "type": "float"
        },
        {
         "name": "cat__Package_1/2 bushel cartons",
         "rawType": "float64",
         "type": "float"
        },
        {
         "name": "cat__Package_24 inch bins",
         "rawType": "float64",
         "type": "float"
        },
        {
         "name": "cat__Package_36 inch bins",
         "rawType": "float64",
         "type": "float"
        },
        {
         "name": "cat__Package_bins",
         "rawType": "float64",
         "type": "float"
        },
        {
         "name": "cat__Package_bushel cartons",
         "rawType": "float64",
         "type": "float"
        },
        {
         "name": "cat__Variety_BIG MACK TYPE",
         "rawType": "float64",
         "type": "float"
        },
        {
         "name": "cat__Variety_BLUE TYPE",
         "rawType": "float64",
         "type": "float"
        },
        {
         "name": "cat__Variety_CINDERELLA",
         "rawType": "float64",
         "type": "float"
        },
        {
         "name": "cat__Variety_FAIRYTALE",
         "rawType": "float64",
         "type": "float"
        },
        {
         "name": "cat__Variety_HOWDEN TYPE",
         "rawType": "float64",
         "type": "float"
        },
        {
         "name": "cat__Variety_HOWDEN WHITE TYPE",
         "rawType": "float64",
         "type": "float"
        },
        {
         "name": "cat__Variety_KNUCKLE HEAD",
         "rawType": "float64",
         "type": "float"
        },
        {
         "name": "cat__Variety_MINIATURE",
         "rawType": "float64",
         "type": "float"
        },
        {
         "name": "cat__Variety_PIE TYPE",
         "rawType": "float64",
         "type": "float"
        },
        {
         "name": "cat__Origin_ALABAMA",
         "rawType": "float64",
         "type": "float"
        },
        {
         "name": "cat__Origin_CALIFORNIA",
         "rawType": "float64",
         "type": "float"
        },
        {
         "name": "cat__Origin_CANADA",
         "rawType": "float64",
         "type": "float"
        },
        {
         "name": "cat__Origin_DELAWARE",
         "rawType": "float64",
         "type": "float"
        },
        {
         "name": "cat__Origin_ILLINOIS",
         "rawType": "float64",
         "type": "float"
        },
        {
         "name": "cat__Origin_MARYLAND",
         "rawType": "float64",
         "type": "float"
        },
        {
         "name": "cat__Origin_MASSACHUSETTS",
         "rawType": "float64",
         "type": "float"
        },
        {
         "name": "cat__Origin_MEXICO",
         "rawType": "float64",
         "type": "float"
        },
        {
         "name": "cat__Origin_MICHIGAN",
         "rawType": "float64",
         "type": "float"
        },
        {
         "name": "cat__Origin_NEW JERSEY",
         "rawType": "float64",
         "type": "float"
        },
        {
         "name": "cat__Origin_NEW YORK",
         "rawType": "float64",
         "type": "float"
        },
        {
         "name": "cat__Origin_NORTH CAROLINA",
         "rawType": "float64",
         "type": "float"
        },
        {
         "name": "cat__Origin_OHIO",
         "rawType": "float64",
         "type": "float"
        },
        {
         "name": "cat__Origin_PENNSYLVANIA",
         "rawType": "float64",
         "type": "float"
        },
        {
         "name": "cat__Origin_TENNESSEE",
         "rawType": "float64",
         "type": "float"
        },
        {
         "name": "cat__Origin_TEXAS",
         "rawType": "float64",
         "type": "float"
        },
        {
         "name": "cat__Origin_VERMONT",
         "rawType": "float64",
         "type": "float"
        },
        {
         "name": "cat__Origin_VIRGINIA",
         "rawType": "float64",
         "type": "float"
        },
        {
         "name": "Color",
         "rawType": "int32",
         "type": "integer"
        }
       ],
       "ref": "0e55308b-4821-44e8-baa9-f46c0a437b2c",
       "rows": [
        [
         "2",
         "1.0",
         "0.0",
         "1.0",
         "0.0",
         "0.0",
         "0.0",
         "0.0",
         "0.0",
         "0.0",
         "0.0",
         "0.0",
         "0.0",
         "0.0",
         "0.0",
         "0.0",
         "0.0",
         "0.0",
         "1.0",
         "0.0",
         "0.0",
         "0.0",
         "0.0",
         "0.0",
         "0.0",
         "0.0",
         "1.0",
         "0.0",
         "0.0",
         "0.0",
         "0.0",
         "0.0",
         "0.0",
         "0.0",
         "1.0",
         "0.0",
         "0.0",
         "0.0",
         "0.0",
         "0.0",
         "0.0",
         "0.0",
         "0.0",
         "0.0",
         "0.0",
         "0.0",
         "0.0",
         "0.0",
         "0.0",
         "0"
        ],
        [
         "3",
         "1.0",
         "0.0",
         "1.0",
         "0.0",
         "0.0",
         "0.0",
         "0.0",
         "0.0",
         "0.0",
         "0.0",
         "0.0",
         "0.0",
         "0.0",
         "0.0",
         "0.0",
         "0.0",
         "0.0",
         "1.0",
         "0.0",
         "0.0",
         "0.0",
         "0.0",
         "0.0",
         "0.0",
         "0.0",
         "1.0",
         "0.0",
         "0.0",
         "0.0",
         "0.0",
         "0.0",
         "0.0",
         "0.0",
         "0.0",
         "0.0",
         "0.0",
         "0.0",
         "0.0",
         "0.0",
         "0.0",
         "0.0",
         "0.0",
         "0.0",
         "0.0",
         "0.0",
         "0.0",
         "0.0",
         "1.0",
         "0"
        ],
        [
         "4",
         "3.0",
         "0.0",
         "1.0",
         "0.0",
         "0.0",
         "0.0",
         "0.0",
         "0.0",
         "0.0",
         "0.0",
         "0.0",
         "0.0",
         "0.0",
         "0.0",
         "0.0",
         "0.0",
         "0.0",
         "1.0",
         "0.0",
         "0.0",
         "0.0",
         "0.0",
         "0.0",
         "0.0",
         "0.0",
         "1.0",
         "0.0",
         "0.0",
         "0.0",
         "0.0",
         "0.0",
         "0.0",
         "0.0",
         "0.0",
         "0.0",
         "1.0",
         "0.0",
         "0.0",
         "0.0",
         "0.0",
         "0.0",
         "0.0",
         "0.0",
         "0.0",
         "0.0",
         "0.0",
         "0.0",
         "0.0",
         "0"
        ],
        [
         "5",
         "3.0",
         "0.0",
         "1.0",
         "0.0",
         "0.0",
         "0.0",
         "0.0",
         "0.0",
         "0.0",
         "0.0",
         "0.0",
         "0.0",
         "0.0",
         "0.0",
         "0.0",
         "0.0",
         "0.0",
         "1.0",
         "0.0",
         "0.0",
         "0.0",
         "0.0",
         "0.0",
         "0.0",
         "0.0",
         "1.0",
         "0.0",
         "0.0",
         "0.0",
         "0.0",
         "0.0",
         "0.0",
         "0.0",
         "0.0",
         "0.0",
         "1.0",
         "0.0",
         "0.0",
         "0.0",
         "0.0",
         "0.0",
         "0.0",
         "0.0",
         "0.0",
         "0.0",
         "0.0",
         "0.0",
         "0.0",
         "0"
        ],
        [
         "6",
         "1.0",
         "0.0",
         "1.0",
         "0.0",
         "0.0",
         "0.0",
         "0.0",
         "0.0",
         "0.0",
         "0.0",
         "0.0",
         "0.0",
         "0.0",
         "0.0",
         "0.0",
         "0.0",
         "0.0",
         "0.0",
         "1.0",
         "0.0",
         "0.0",
         "0.0",
         "0.0",
         "0.0",
         "0.0",
         "1.0",
         "0.0",
         "0.0",
         "0.0",
         "0.0",
         "0.0",
         "0.0",
         "0.0",
         "0.0",
         "0.0",
         "1.0",
         "0.0",
         "0.0",
         "0.0",
         "0.0",
         "0.0",
         "0.0",
         "0.0",
         "0.0",
         "0.0",
         "0.0",
         "0.0",
         "0.0",
         "0"
        ]
       ],
       "shape": {
        "columns": 49,
        "rows": 5
       }
      },
      "text/html": [
       "<div>\n",
       "<style scoped>\n",
       "    .dataframe tbody tr th:only-of-type {\n",
       "        vertical-align: middle;\n",
       "    }\n",
       "\n",
       "    .dataframe tbody tr th {\n",
       "        vertical-align: top;\n",
       "    }\n",
       "\n",
       "    .dataframe thead th {\n",
       "        text-align: right;\n",
       "    }\n",
       "</style>\n",
       "<table border=\"1\" class=\"dataframe\">\n",
       "  <thead>\n",
       "    <tr style=\"text-align: right;\">\n",
       "      <th></th>\n",
       "      <th>ord__Item Size</th>\n",
       "      <th>cat__City Name_ATLANTA</th>\n",
       "      <th>cat__City Name_BALTIMORE</th>\n",
       "      <th>cat__City Name_BOSTON</th>\n",
       "      <th>cat__City Name_CHICAGO</th>\n",
       "      <th>cat__City Name_COLUMBIA</th>\n",
       "      <th>cat__City Name_DALLAS</th>\n",
       "      <th>cat__City Name_DETROIT</th>\n",
       "      <th>cat__City Name_LOS ANGELES</th>\n",
       "      <th>cat__City Name_MIAMI</th>\n",
       "      <th>...</th>\n",
       "      <th>cat__Origin_NEW JERSEY</th>\n",
       "      <th>cat__Origin_NEW YORK</th>\n",
       "      <th>cat__Origin_NORTH CAROLINA</th>\n",
       "      <th>cat__Origin_OHIO</th>\n",
       "      <th>cat__Origin_PENNSYLVANIA</th>\n",
       "      <th>cat__Origin_TENNESSEE</th>\n",
       "      <th>cat__Origin_TEXAS</th>\n",
       "      <th>cat__Origin_VERMONT</th>\n",
       "      <th>cat__Origin_VIRGINIA</th>\n",
       "      <th>Color</th>\n",
       "    </tr>\n",
       "  </thead>\n",
       "  <tbody>\n",
       "    <tr>\n",
       "      <th>2</th>\n",
       "      <td>1.0</td>\n",
       "      <td>0.0</td>\n",
       "      <td>1.0</td>\n",
       "      <td>0.0</td>\n",
       "      <td>0.0</td>\n",
       "      <td>0.0</td>\n",
       "      <td>0.0</td>\n",
       "      <td>0.0</td>\n",
       "      <td>0.0</td>\n",
       "      <td>0.0</td>\n",
       "      <td>...</td>\n",
       "      <td>0.0</td>\n",
       "      <td>0.0</td>\n",
       "      <td>0.0</td>\n",
       "      <td>0.0</td>\n",
       "      <td>0.0</td>\n",
       "      <td>0.0</td>\n",
       "      <td>0.0</td>\n",
       "      <td>0.0</td>\n",
       "      <td>0.0</td>\n",
       "      <td>0</td>\n",
       "    </tr>\n",
       "    <tr>\n",
       "      <th>3</th>\n",
       "      <td>1.0</td>\n",
       "      <td>0.0</td>\n",
       "      <td>1.0</td>\n",
       "      <td>0.0</td>\n",
       "      <td>0.0</td>\n",
       "      <td>0.0</td>\n",
       "      <td>0.0</td>\n",
       "      <td>0.0</td>\n",
       "      <td>0.0</td>\n",
       "      <td>0.0</td>\n",
       "      <td>...</td>\n",
       "      <td>0.0</td>\n",
       "      <td>0.0</td>\n",
       "      <td>0.0</td>\n",
       "      <td>0.0</td>\n",
       "      <td>0.0</td>\n",
       "      <td>0.0</td>\n",
       "      <td>0.0</td>\n",
       "      <td>0.0</td>\n",
       "      <td>1.0</td>\n",
       "      <td>0</td>\n",
       "    </tr>\n",
       "    <tr>\n",
       "      <th>4</th>\n",
       "      <td>3.0</td>\n",
       "      <td>0.0</td>\n",
       "      <td>1.0</td>\n",
       "      <td>0.0</td>\n",
       "      <td>0.0</td>\n",
       "      <td>0.0</td>\n",
       "      <td>0.0</td>\n",
       "      <td>0.0</td>\n",
       "      <td>0.0</td>\n",
       "      <td>0.0</td>\n",
       "      <td>...</td>\n",
       "      <td>0.0</td>\n",
       "      <td>0.0</td>\n",
       "      <td>0.0</td>\n",
       "      <td>0.0</td>\n",
       "      <td>0.0</td>\n",
       "      <td>0.0</td>\n",
       "      <td>0.0</td>\n",
       "      <td>0.0</td>\n",
       "      <td>0.0</td>\n",
       "      <td>0</td>\n",
       "    </tr>\n",
       "    <tr>\n",
       "      <th>5</th>\n",
       "      <td>3.0</td>\n",
       "      <td>0.0</td>\n",
       "      <td>1.0</td>\n",
       "      <td>0.0</td>\n",
       "      <td>0.0</td>\n",
       "      <td>0.0</td>\n",
       "      <td>0.0</td>\n",
       "      <td>0.0</td>\n",
       "      <td>0.0</td>\n",
       "      <td>0.0</td>\n",
       "      <td>...</td>\n",
       "      <td>0.0</td>\n",
       "      <td>0.0</td>\n",
       "      <td>0.0</td>\n",
       "      <td>0.0</td>\n",
       "      <td>0.0</td>\n",
       "      <td>0.0</td>\n",
       "      <td>0.0</td>\n",
       "      <td>0.0</td>\n",
       "      <td>0.0</td>\n",
       "      <td>0</td>\n",
       "    </tr>\n",
       "    <tr>\n",
       "      <th>6</th>\n",
       "      <td>1.0</td>\n",
       "      <td>0.0</td>\n",
       "      <td>1.0</td>\n",
       "      <td>0.0</td>\n",
       "      <td>0.0</td>\n",
       "      <td>0.0</td>\n",
       "      <td>0.0</td>\n",
       "      <td>0.0</td>\n",
       "      <td>0.0</td>\n",
       "      <td>0.0</td>\n",
       "      <td>...</td>\n",
       "      <td>0.0</td>\n",
       "      <td>0.0</td>\n",
       "      <td>0.0</td>\n",
       "      <td>0.0</td>\n",
       "      <td>0.0</td>\n",
       "      <td>0.0</td>\n",
       "      <td>0.0</td>\n",
       "      <td>0.0</td>\n",
       "      <td>0.0</td>\n",
       "      <td>0</td>\n",
       "    </tr>\n",
       "  </tbody>\n",
       "</table>\n",
       "<p>5 rows × 49 columns</p>\n",
       "</div>"
      ],
      "text/plain": [
       "   ord__Item Size  cat__City Name_ATLANTA  cat__City Name_BALTIMORE  \\\n",
       "2             1.0                     0.0                       1.0   \n",
       "3             1.0                     0.0                       1.0   \n",
       "4             3.0                     0.0                       1.0   \n",
       "5             3.0                     0.0                       1.0   \n",
       "6             1.0                     0.0                       1.0   \n",
       "\n",
       "   cat__City Name_BOSTON  cat__City Name_CHICAGO  cat__City Name_COLUMBIA  \\\n",
       "2                    0.0                     0.0                      0.0   \n",
       "3                    0.0                     0.0                      0.0   \n",
       "4                    0.0                     0.0                      0.0   \n",
       "5                    0.0                     0.0                      0.0   \n",
       "6                    0.0                     0.0                      0.0   \n",
       "\n",
       "   cat__City Name_DALLAS  cat__City Name_DETROIT  cat__City Name_LOS ANGELES  \\\n",
       "2                    0.0                     0.0                         0.0   \n",
       "3                    0.0                     0.0                         0.0   \n",
       "4                    0.0                     0.0                         0.0   \n",
       "5                    0.0                     0.0                         0.0   \n",
       "6                    0.0                     0.0                         0.0   \n",
       "\n",
       "   cat__City Name_MIAMI  ...  cat__Origin_NEW JERSEY  cat__Origin_NEW YORK  \\\n",
       "2                   0.0  ...                     0.0                   0.0   \n",
       "3                   0.0  ...                     0.0                   0.0   \n",
       "4                   0.0  ...                     0.0                   0.0   \n",
       "5                   0.0  ...                     0.0                   0.0   \n",
       "6                   0.0  ...                     0.0                   0.0   \n",
       "\n",
       "   cat__Origin_NORTH CAROLINA  cat__Origin_OHIO  cat__Origin_PENNSYLVANIA  \\\n",
       "2                         0.0               0.0                       0.0   \n",
       "3                         0.0               0.0                       0.0   \n",
       "4                         0.0               0.0                       0.0   \n",
       "5                         0.0               0.0                       0.0   \n",
       "6                         0.0               0.0                       0.0   \n",
       "\n",
       "   cat__Origin_TENNESSEE  cat__Origin_TEXAS  cat__Origin_VERMONT  \\\n",
       "2                    0.0                0.0                  0.0   \n",
       "3                    0.0                0.0                  0.0   \n",
       "4                    0.0                0.0                  0.0   \n",
       "5                    0.0                0.0                  0.0   \n",
       "6                    0.0                0.0                  0.0   \n",
       "\n",
       "   cat__Origin_VIRGINIA  Color  \n",
       "2                   0.0      0  \n",
       "3                   1.0      0  \n",
       "4                   0.0      0  \n",
       "5                   0.0      0  \n",
       "6                   0.0      0  \n",
       "\n",
       "[5 rows x 49 columns]"
      ]
     },
     "execution_count": 8,
     "metadata": {},
     "output_type": "execute_result"
    }
   ],
   "source": [
    "from sklearn.preprocessing import LabelEncoder\n",
    "\n",
    "#encode the 'color' column using label encoding\n",
    "label_encoder = LabelEncoder()\n",
    "encoded_label = label_encoder.fit_transform(pumpkins['Color'])\n",
    "encoded_pumpkins = encoded_features.assign(Color=encoded_label)\n",
    "encoded_pumpkins.head()"
   ]
  },
  {
   "cell_type": "code",
   "execution_count": 9,
   "metadata": {},
   "outputs": [
    {
     "data": {
      "text/plain": [
       "['ORANGE', 'WHITE']"
      ]
     },
     "execution_count": 9,
     "metadata": {},
     "output_type": "execute_result"
    }
   ],
   "source": [
    "#look at the mapping between the encoded values and the original values\n",
    "list(label_encoder.inverse_transform([0,1]))"
   ]
  },
  {
   "cell_type": "code",
   "execution_count": 10,
   "metadata": {},
   "outputs": [
    {
     "name": "stderr",
     "output_type": "stream",
     "text": [
      "C:\\Users\\ashut\\AppData\\Local\\Temp\\ipykernel_4960\\2364130466.py:9: FutureWarning: \n",
      "\n",
      "Passing `palette` without assigning `hue` is deprecated and will be removed in v0.14.0. Assign the `y` variable to `hue` and set `legend=False` for the same effect.\n",
      "\n",
      "  g = sns.catplot(\n"
     ]
    },
    {
     "data": {
      "text/plain": [
       "<seaborn.axisgrid.FacetGrid at 0x1ebd1be8340>"
      ]
     },
     "execution_count": 10,
     "metadata": {},
     "output_type": "execute_result"
    },
    {
     "data": {
      "image/png": "[encoded data removed]",
      "text/plain": [
       "<Figure size 518.4x1166.4 with 9 Axes>"
      ]
     },
     "metadata": {
      "needs_background": "light"
     },
     "output_type": "display_data"
    }
   ],
   "source": [
    "palette = {\n",
    "    'ORANGE': 'orange',\n",
    "    'WHITE': 'wheat',\n",
    "    }\n",
    "\n",
    "#we need the encoded item size column to use it as the x-axis values in the plot\n",
    "pumpkins['Item Size'] = encoded_pumpkins['ord__Item Size']\n",
    "\n",
    "g = sns.catplot(\n",
    "        data=pumpkins,\n",
    "        x=\"Item Size\", y=\"Color\", row='Variety',\n",
    "        kind=\"box\", orient=\"h\",\n",
    "        sharex=False, margin_titles=True,\n",
    "        height=1.8, aspect=4, palette=palette,\n",
    "    )\n",
    "#define axis labels\n",
    "g.set(xlabel=\"Item Size\", ylabel=\"\").set(xlim=(0,6))\n",
    "g.set_titles(row_template=\"{row_name}\")"
   ]
  },
  {
   "cell_type": "code",
   "execution_count": 11,
   "metadata": {},
   "outputs": [],
   "source": [
    "from sklearn.model_selection import train_test_split\n",
    "\n",
    "X = encoded_pumpkins[encoded_pumpkins.columns.difference(['Color'])]\n",
    "y = encoded_pumpkins['Color']\n",
    "\n",
    "X_train, X_test, y_train, y_test = train_test_split(X, y, test_size=0.2, random_state=0)\n"
   ]
  },
  {
   "cell_type": "code",
   "execution_count": 12,
   "metadata": {},
   "outputs": [
    {
     "name": "stdout",
     "output_type": "stream",
     "text": [
      "              precision    recall  f1-score   support\n",
      "\n",
      "           0       0.94      0.98      0.96       166\n",
      "           1       0.85      0.67      0.75        33\n",
      "\n",
      "    accuracy                           0.92       199\n",
      "   macro avg       0.89      0.82      0.85       199\n",
      "weighted avg       0.92      0.92      0.92       199\n",
      "\n",
      "Predicted labels:  [0 0 0 0 0 0 0 0 0 0 0 0 0 0 0 0 0 0 0 0 1 0 0 1 0 0 0 0 0 0 0 0 1 0 0 0 0\n",
      " 0 0 0 0 0 1 0 1 0 0 1 0 0 0 0 0 1 0 1 0 1 0 1 0 0 0 0 0 0 0 0 0 0 0 0 0 0\n",
      " 1 0 0 0 0 0 0 0 1 0 0 0 0 0 0 0 1 0 0 0 0 0 0 0 0 1 0 1 0 0 0 0 0 0 0 1 0\n",
      " 0 0 0 0 0 0 0 0 0 0 0 0 0 0 0 0 0 0 0 0 0 1 0 0 0 0 0 0 0 0 1 0 0 0 1 1 0\n",
      " 0 0 0 0 1 0 0 0 0 0 1 0 0 0 0 0 0 0 0 0 0 0 0 0 0 0 0 0 0 0 0 0 0 0 0 0 1\n",
      " 0 0 0 1 0 0 0 0 0 0 0 0 1 1]\n",
      "F1-score:  0.7457627118644068\n"
     ]
    }
   ],
   "source": [
    "from sklearn.metrics import f1_score, classification_report \n",
    "from sklearn.linear_model import LogisticRegression\n",
    "\n",
    "model = LogisticRegression()\n",
    "model.fit(X_train, y_train)\n",
    "predictions = model.predict(X_test)\n",
    "\n",
    "print(classification_report(y_test, predictions))\n",
    "print('Predicted labels: ', predictions)\n",
    "print('F1-score: ', f1_score(y_test, predictions))"
   ]
  },
  {
   "cell_type": "markdown",
   "metadata": {},
   "source": [
    "A 'confusion matrix' (or 'error matrix') is a table that expresses your model's true vs. false positives and negatives, thus gauging the accuracy of predictions."
   ]
  },
  {
   "cell_type": "code",
   "execution_count": 13,
   "metadata": {},
   "outputs": [
    {
     "data": {
      "text/plain": [
       "array([[162,   4],\n",
       "       [ 11,  22]], dtype=int64)"
      ]
     },
     "execution_count": 13,
     "metadata": {},
     "output_type": "execute_result"
    }
   ],
   "source": [
    "from sklearn.metrics import confusion_matrix\n",
    "\n",
    "confusion_matrix(y_test,predictions)"
   ]
  },
  {
   "cell_type": "code",
   "execution_count": 14,
   "metadata": {},
   "outputs": [
    {
     "data": {
      "image/png": "[encoded data removed]",
      "text/plain": [
       "<Figure size 432x432 with 1 Axes>"
      ]
     },
     "metadata": {
      "needs_background": "light"
     },
     "output_type": "display_data"
    }
   ],
   "source": [
    "from sklearn.metrics import roc_curve, roc_auc_score\n",
    "import matplotlib\n",
    "import matplotlib.pyplot as plt\n",
    "%matplotlib inline\n",
    "\n",
    "y_scores = model.predict_proba(X_test)\n",
    "fpr, tpr, thresholds = roc_curve(y_test, y_scores[:,1])\n",
    "\n",
    "fig = plt.figure(figsize=(6, 6))\n",
    "plt.plot([0, 1], [0, 1], 'k--')\n",
    "plt.plot(fpr, tpr)\n",
    "plt.xlabel('False Positive Rate')\n",
    "plt.ylabel('True Positive Rate')\n",
    "plt.title('ROC Curve')\n",
    "plt.show()"
   ]
  },
  {
   "cell_type": "code",
   "execution_count": 15,
   "metadata": {},
   "outputs": [
    {
     "name": "stdout",
     "output_type": "stream",
     "text": [
      "0.9749908725812341\n"
     ]
    }
   ],
   "source": [
    "auc = roc_auc_score(y_test,y_scores[:,1])\n",
    "print(auc)"
   ]
  }
 ],
 "metadata": {
  "kernelspec": {
   "display_name": "Python 3",
   "language": "python",
   "name": "python3"
  },
  "language_info": {
   "codemirror_mode": {
    "name": "ipython",
    "version": 3
   },
   "file_extension": ".py",
   "mimetype": "text/x-python",
   "name": "python",
   "nbconvert_exporter": "python",
   "pygments_lexer": "ipython3",
   "version": "3.10.5"
  },
  "metadata": {
   "interpreter": {
    "hash": "70b38d7a306a849643e446cd70466270a13445e5987dfa1344ef2b127438fa4d"
   }
  },
  "orig_nbformat": 2
 },
 "nbformat": 4,
 "nbformat_minor": 2
}
