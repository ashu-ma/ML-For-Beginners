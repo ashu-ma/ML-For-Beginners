{
 "cells": [
  {
   "cell_type": "code",
   "execution_count": 1,
   "id": "4dcaa87f",
   "metadata": {},
   "outputs": [],
   "source": [
    "import pandas as pd\n",
    "import matplotlib.pyplot as plt\n",
    "import numpy as np\n",
    "from datetime import datetime\n",
    "from sklearn import datasets,linear_model,model_selection"
   ]
  },
  {
   "cell_type": "code",
   "execution_count": 3,
   "id": "6ba871d7",
   "metadata": {},
   "outputs": [
    {
     "name": "stdout",
     "output_type": "stream",
     "text": [
      "(442, 10)\n",
      "['age', 'sex', 'bmi', 'bp', 's1', 's2', 's3', 's4', 's5', 's6']\n"
     ]
    }
   ],
   "source": [
    "#load the dataset\n",
    "X,y=datasets.load_diabetes(return_X_y=True)\n",
    "print(X.shape)\n",
    "\n",
    "col_names=datasets.load_diabetes().feature_names\n",
    "print(col_names)"
   ]
  },
  {
   "cell_type": "code",
   "execution_count": 13,
   "id": "f382a9c3",
   "metadata": {},
   "outputs": [
    {
     "name": "stdout",
     "output_type": "stream",
     "text": [
      "(442, 4)\n"
     ]
    },
    {
     "data": {
      "application/vnd.microsoft.datawrangler.viewer.v0+json": {
       "columns": [
        {
         "name": "index",
         "rawType": "int64",
         "type": "integer"
        },
        {
         "name": "age",
         "rawType": "float64",
         "type": "float"
        },
        {
         "name": "sex",
         "rawType": "float64",
         "type": "float"
        },
        {
         "name": "bmi",
         "rawType": "float64",
         "type": "float"
        },
        {
         "name": "bp",
         "rawType": "float64",
         "type": "float"
        },
        {
         "name": "s1",
         "rawType": "float64",
         "type": "float"
        },
        {
         "name": "s2",
         "rawType": "float64",
         "type": "float"
        },
        {
         "name": "s3",
         "rawType": "float64",
         "type": "float"
        },
        {
         "name": "s4",
         "rawType": "float64",
         "type": "float"
        },
        {
         "name": "s5",
         "rawType": "float64",
         "type": "float"
        },
        {
         "name": "s6",
         "rawType": "float64",
         "type": "float"
        },
        {
         "name": "target",
         "rawType": "float64",
         "type": "float"
        }
       ],
       "ref": "445e8d3e-c4ef-402c-830d-2479a14c0905",
       "rows": [
        [
         "0",
         "0.04",
         "0.05",
         "0.06",
         "0.02",
         "-0.04",
         "-0.03",
         "-0.04",
         "-0.0",
         "0.02",
         "-0.02",
         "151.0"
        ],
        [
         "1",
         "-0.0",
         "-0.04",
         "-0.05",
         "-0.03",
         "-0.01",
         "-0.02",
         "0.07",
         "-0.04",
         "-0.07",
         "-0.09",
         "75.0"
        ],
        [
         "2",
         "0.09",
         "0.05",
         "0.04",
         "-0.01",
         "-0.05",
         "-0.03",
         "-0.03",
         "-0.0",
         "0.0",
         "-0.03",
         "141.0"
        ],
        [
         "3",
         "-0.09",
         "-0.04",
         "-0.01",
         "-0.04",
         "0.01",
         "0.02",
         "-0.04",
         "0.03",
         "0.02",
         "-0.01",
         "206.0"
        ],
        [
         "4",
         "0.01",
         "-0.04",
         "-0.04",
         "0.02",
         "0.0",
         "0.02",
         "0.01",
         "-0.0",
         "-0.03",
         "-0.05",
         "135.0"
        ],
        [
         "5",
         "-0.09",
         "-0.04",
         "-0.04",
         "-0.02",
         "-0.07",
         "-0.08",
         "0.04",
         "-0.08",
         "-0.04",
         "-0.1",
         "97.0"
        ],
        [
         "6",
         "-0.05",
         "0.05",
         "-0.05",
         "-0.02",
         "-0.04",
         "-0.02",
         "0.0",
         "-0.04",
         "-0.06",
         "-0.04",
         "138.0"
        ],
        [
         "7",
         "0.06",
         "0.05",
         "-0.0",
         "0.07",
         "0.09",
         "0.11",
         "0.02",
         "0.02",
         "-0.04",
         "0.0",
         "63.0"
        ],
        [
         "8",
         "0.04",
         "0.05",
         "0.06",
         "-0.04",
         "-0.01",
         "0.01",
         "-0.03",
         "-0.0",
         "-0.01",
         "0.01",
         "110.0"
        ],
        [
         "9",
         "-0.07",
         "-0.04",
         "0.04",
         "-0.03",
         "-0.01",
         "-0.03",
         "-0.02",
         "-0.0",
         "0.07",
         "-0.01",
         "310.0"
        ],
        [
         "10",
         "-0.1",
         "-0.04",
         "-0.08",
         "0.01",
         "-0.1",
         "-0.09",
         "-0.01",
         "-0.08",
         "-0.06",
         "-0.03",
         "101.0"
        ],
        [
         "11",
         "0.03",
         "0.05",
         "0.02",
         "-0.03",
         "-0.01",
         "0.05",
         "-0.07",
         "0.07",
         "-0.1",
         "-0.06",
         "69.0"
        ],
        [
         "12",
         "0.02",
         "-0.04",
         "-0.03",
         "-0.01",
         "-0.0",
         "-0.01",
         "0.04",
         "-0.04",
         "-0.03",
         "-0.04",
         "179.0"
        ],
        [
         "13",
         "0.01",
         "0.05",
         "-0.0",
         "0.01",
         "-0.0",
         "-0.02",
         "-0.0",
         "-0.0",
         "0.04",
         "-0.01",
         "185.0"
        ],
        [
         "14",
         "0.05",
         "-0.04",
         "-0.03",
         "-0.01",
         "0.02",
         "-0.0",
         "0.08",
         "-0.04",
         "-0.03",
         "-0.08",
         "118.0"
        ],
        [
         "15",
         "-0.05",
         "0.05",
         "-0.02",
         "0.08",
         "0.09",
         "0.11",
         "-0.04",
         "0.11",
         "0.04",
         "-0.04",
         "171.0"
        ],
        [
         "16",
         "-0.01",
         "-0.04",
         "0.04",
         "0.05",
         "0.02",
         "-0.02",
         "0.07",
         "-0.04",
         "0.05",
         "0.03",
         "166.0"
        ],
        [
         "17",
         "0.07",
         "0.05",
         "0.01",
         "0.06",
         "0.03",
         "0.05",
         "-0.04",
         "0.03",
         "0.03",
         "-0.0",
         "144.0"
        ],
        [
         "18",
         "-0.04",
         "-0.04",
         "-0.01",
         "-0.04",
         "-0.04",
         "-0.02",
         "-0.03",
         "-0.0",
         "-0.02",
         "-0.02",
         "97.0"
        ],
        [
         "19",
         "-0.03",
         "-0.04",
         "-0.02",
         "-0.04",
         "-0.0",
         "-0.01",
         "0.04",
         "-0.04",
         "-0.01",
         "-0.05",
         "168.0"
        ],
        [
         "20",
         "-0.05",
         "-0.04",
         "-0.06",
         "-0.04",
         "-0.05",
         "-0.04",
         "0.0",
         "-0.04",
         "-0.01",
         "0.02",
         "68.0"
        ],
        [
         "21",
         "-0.09",
         "0.05",
         "-0.02",
         "0.0",
         "-0.04",
         "-0.03",
         "0.02",
         "-0.04",
         "-0.07",
         "-0.02",
         "49.0"
        ],
        [
         "22",
         "-0.09",
         "-0.04",
         "-0.0",
         "-0.01",
         "-0.0",
         "0.01",
         "0.02",
         "-0.04",
         "-0.06",
         "-0.01",
         "68.0"
        ],
        [
         "23",
         "0.05",
         "0.05",
         "0.06",
         "0.03",
         "0.03",
         "-0.05",
         "-0.05",
         "0.07",
         "0.13",
         "0.14",
         "245.0"
        ],
        [
         "24",
         "-0.06",
         "-0.04",
         "0.04",
         "-0.02",
         "-0.03",
         "-0.02",
         "-0.01",
         "-0.0",
         "-0.03",
         "-0.05",
         "184.0"
        ],
        [
         "25",
         "-0.07",
         "0.05",
         "-0.01",
         "-0.04",
         "-0.02",
         "0.0",
         "-0.06",
         "0.03",
         "0.02",
         "-0.03",
         "202.0"
        ],
        [
         "26",
         "-0.11",
         "-0.04",
         "-0.08",
         "-0.03",
         "-0.09",
         "-0.1",
         "0.03",
         "-0.08",
         "-0.04",
         "-0.01",
         "137.0"
        ],
        [
         "27",
         "-0.02",
         "-0.04",
         "0.06",
         "-0.04",
         "-0.04",
         "-0.04",
         "0.01",
         "-0.04",
         "-0.02",
         "0.04",
         "85.0"
        ],
        [
         "28",
         "0.05",
         "-0.04",
         "-0.02",
         "-0.07",
         "-0.04",
         "-0.04",
         "-0.01",
         "-0.04",
         "-0.0",
         "-0.05",
         "131.0"
        ],
        [
         "29",
         "0.07",
         "0.05",
         "-0.01",
         "0.06",
         "-0.04",
         "-0.1",
         "0.05",
         "-0.08",
         "0.06",
         "0.05",
         "283.0"
        ],
        [
         "30",
         "-0.06",
         "-0.04",
         "0.04",
         "-0.02",
         "-0.01",
         "-0.01",
         "0.02",
         "-0.04",
         "-0.03",
         "-0.01",
         "129.0"
        ],
        [
         "31",
         "-0.02",
         "-0.04",
         "-0.07",
         "-0.08",
         "-0.04",
         "-0.05",
         "0.06",
         "-0.08",
         "-0.04",
         "-0.04",
         "59.0"
        ],
        [
         "32",
         "0.03",
         "0.05",
         "0.13",
         "0.03",
         "-0.05",
         "-0.01",
         "-0.1",
         "0.11",
         "0.0",
         "0.03",
         "341.0"
        ],
        [
         "33",
         "0.03",
         "-0.04",
         "-0.05",
         "-0.0",
         "-0.04",
         "-0.09",
         "0.12",
         "-0.08",
         "-0.02",
         "0.0",
         "87.0"
        ],
        [
         "34",
         "0.02",
         "-0.04",
         "-0.06",
         "-0.06",
         "-0.06",
         "-0.05",
         "0.01",
         "-0.04",
         "-0.06",
         "-0.07",
         "65.0"
        ],
        [
         "35",
         "0.05",
         "0.05",
         "-0.03",
         "-0.05",
         "0.05",
         "-0.0",
         "0.13",
         "-0.05",
         "0.02",
         "0.02",
         "102.0"
        ],
        [
         "36",
         "0.01",
         "-0.04",
         "0.02",
         "0.05",
         "0.01",
         "-0.03",
         "0.04",
         "-0.04",
         "0.05",
         "-0.03",
         "265.0"
        ],
        [
         "37",
         "-0.01",
         "-0.04",
         "0.01",
         "-0.06",
         "-0.02",
         "-0.04",
         "0.03",
         "-0.04",
         "0.02",
         "-0.01",
         "276.0"
        ],
        [
         "38",
         "-0.0",
         "0.05",
         "0.07",
         "0.1",
         "0.09",
         "0.08",
         "-0.02",
         "0.07",
         "0.07",
         "0.02",
         "252.0"
        ],
        [
         "39",
         "-0.0",
         "0.05",
         "0.01",
         "-0.07",
         "0.0",
         "0.01",
         "-0.01",
         "-0.0",
         "0.02",
         "0.0",
         "90.0"
        ],
        [
         "40",
         "0.01",
         "0.05",
         "-0.01",
         "0.02",
         "0.05",
         "0.07",
         "-0.02",
         "0.03",
         "0.01",
         "0.09",
         "100.0"
        ],
        [
         "41",
         "-0.1",
         "-0.04",
         "-0.07",
         "-0.11",
         "-0.07",
         "-0.07",
         "0.02",
         "-0.04",
         "-0.05",
         "-0.01",
         "55.0"
        ],
        [
         "42",
         "-0.06",
         "0.05",
         "-0.01",
         "-0.01",
         "-0.05",
         "-0.02",
         "-0.06",
         "0.02",
         "-0.01",
         "-0.03",
         "61.0"
        ],
        [
         "43",
         "0.02",
         "-0.04",
         "-0.02",
         "-0.07",
         "0.02",
         "-0.01",
         "0.12",
         "-0.08",
         "-0.04",
         "0.07",
         "92.0"
        ],
        [
         "44",
         "0.05",
         "0.05",
         "0.07",
         "0.01",
         "-0.02",
         "0.0",
         "-0.08",
         "0.07",
         "0.03",
         "-0.02",
         "259.0"
        ],
        [
         "45",
         "0.03",
         "0.05",
         "-0.04",
         "0.03",
         "-0.01",
         "0.0",
         "-0.01",
         "-0.0",
         "-0.01",
         "-0.05",
         "53.0"
        ],
        [
         "46",
         "-0.06",
         "-0.04",
         "-0.01",
         "-0.03",
         "-0.05",
         "-0.05",
         "0.0",
         "-0.04",
         "-0.01",
         "-0.09",
         "190.0"
        ],
        [
         "47",
         "-0.08",
         "-0.04",
         "-0.07",
         "-0.06",
         "-0.08",
         "-0.07",
         "-0.02",
         "-0.04",
         "-0.02",
         "-0.08",
         "142.0"
        ],
        [
         "48",
         "0.07",
         "0.05",
         "-0.04",
         "0.01",
         "0.0",
         "0.01",
         "0.04",
         "-0.04",
         "-0.06",
         "-0.02",
         "75.0"
        ],
        [
         "49",
         "-0.04",
         "0.05",
         "0.01",
         "-0.01",
         "-0.01",
         "0.01",
         "-0.07",
         "0.07",
         "0.04",
         "-0.01",
         "142.0"
        ]
       ],
       "shape": {
        "columns": 11,
        "rows": 442
       }
      },
      "text/html": [
       "<div>\n",
       "<style scoped>\n",
       "    .dataframe tbody tr th:only-of-type {\n",
       "        vertical-align: middle;\n",
       "    }\n",
       "\n",
       "    .dataframe tbody tr th {\n",
       "        vertical-align: top;\n",
       "    }\n",
       "\n",
       "    .dataframe thead th {\n",
       "        text-align: right;\n",
       "    }\n",
       "</style>\n",
       "<table border=\"1\" class=\"dataframe\">\n",
       "  <thead>\n",
       "    <tr style=\"text-align: right;\">\n",
       "      <th></th>\n",
       "      <th>age</th>\n",
       "      <th>sex</th>\n",
       "      <th>bmi</th>\n",
       "      <th>bp</th>\n",
       "      <th>s1</th>\n",
       "      <th>s2</th>\n",
       "      <th>s3</th>\n",
       "      <th>s4</th>\n",
       "      <th>s5</th>\n",
       "      <th>s6</th>\n",
       "      <th>target</th>\n",
       "    </tr>\n",
       "  </thead>\n",
       "  <tbody>\n",
       "    <tr>\n",
       "      <th>0</th>\n",
       "      <td>0.04</td>\n",
       "      <td>0.05</td>\n",
       "      <td>0.06</td>\n",
       "      <td>0.02</td>\n",
       "      <td>-0.04</td>\n",
       "      <td>-0.03</td>\n",
       "      <td>-0.04</td>\n",
       "      <td>-0.00</td>\n",
       "      <td>0.02</td>\n",
       "      <td>-0.02</td>\n",
       "      <td>151.0</td>\n",
       "    </tr>\n",
       "    <tr>\n",
       "      <th>1</th>\n",
       "      <td>-0.00</td>\n",
       "      <td>-0.04</td>\n",
       "      <td>-0.05</td>\n",
       "      <td>-0.03</td>\n",
       "      <td>-0.01</td>\n",
       "      <td>-0.02</td>\n",
       "      <td>0.07</td>\n",
       "      <td>-0.04</td>\n",
       "      <td>-0.07</td>\n",
       "      <td>-0.09</td>\n",
       "      <td>75.0</td>\n",
       "    </tr>\n",
       "    <tr>\n",
       "      <th>2</th>\n",
       "      <td>0.09</td>\n",
       "      <td>0.05</td>\n",
       "      <td>0.04</td>\n",
       "      <td>-0.01</td>\n",
       "      <td>-0.05</td>\n",
       "      <td>-0.03</td>\n",
       "      <td>-0.03</td>\n",
       "      <td>-0.00</td>\n",
       "      <td>0.00</td>\n",
       "      <td>-0.03</td>\n",
       "      <td>141.0</td>\n",
       "    </tr>\n",
       "    <tr>\n",
       "      <th>3</th>\n",
       "      <td>-0.09</td>\n",
       "      <td>-0.04</td>\n",
       "      <td>-0.01</td>\n",
       "      <td>-0.04</td>\n",
       "      <td>0.01</td>\n",
       "      <td>0.02</td>\n",
       "      <td>-0.04</td>\n",
       "      <td>0.03</td>\n",
       "      <td>0.02</td>\n",
       "      <td>-0.01</td>\n",
       "      <td>206.0</td>\n",
       "    </tr>\n",
       "    <tr>\n",
       "      <th>4</th>\n",
       "      <td>0.01</td>\n",
       "      <td>-0.04</td>\n",
       "      <td>-0.04</td>\n",
       "      <td>0.02</td>\n",
       "      <td>0.00</td>\n",
       "      <td>0.02</td>\n",
       "      <td>0.01</td>\n",
       "      <td>-0.00</td>\n",
       "      <td>-0.03</td>\n",
       "      <td>-0.05</td>\n",
       "      <td>135.0</td>\n",
       "    </tr>\n",
       "    <tr>\n",
       "      <th>...</th>\n",
       "      <td>...</td>\n",
       "      <td>...</td>\n",
       "      <td>...</td>\n",
       "      <td>...</td>\n",
       "      <td>...</td>\n",
       "      <td>...</td>\n",
       "      <td>...</td>\n",
       "      <td>...</td>\n",
       "      <td>...</td>\n",
       "      <td>...</td>\n",
       "      <td>...</td>\n",
       "    </tr>\n",
       "    <tr>\n",
       "      <th>437</th>\n",
       "      <td>0.04</td>\n",
       "      <td>0.05</td>\n",
       "      <td>0.02</td>\n",
       "      <td>0.06</td>\n",
       "      <td>-0.01</td>\n",
       "      <td>-0.00</td>\n",
       "      <td>-0.03</td>\n",
       "      <td>-0.00</td>\n",
       "      <td>0.03</td>\n",
       "      <td>0.01</td>\n",
       "      <td>178.0</td>\n",
       "    </tr>\n",
       "    <tr>\n",
       "      <th>438</th>\n",
       "      <td>-0.01</td>\n",
       "      <td>0.05</td>\n",
       "      <td>-0.02</td>\n",
       "      <td>-0.07</td>\n",
       "      <td>0.05</td>\n",
       "      <td>0.08</td>\n",
       "      <td>-0.03</td>\n",
       "      <td>0.03</td>\n",
       "      <td>-0.02</td>\n",
       "      <td>0.04</td>\n",
       "      <td>104.0</td>\n",
       "    </tr>\n",
       "    <tr>\n",
       "      <th>439</th>\n",
       "      <td>0.04</td>\n",
       "      <td>0.05</td>\n",
       "      <td>-0.02</td>\n",
       "      <td>0.02</td>\n",
       "      <td>-0.04</td>\n",
       "      <td>-0.01</td>\n",
       "      <td>-0.02</td>\n",
       "      <td>-0.01</td>\n",
       "      <td>-0.05</td>\n",
       "      <td>0.02</td>\n",
       "      <td>132.0</td>\n",
       "    </tr>\n",
       "    <tr>\n",
       "      <th>440</th>\n",
       "      <td>-0.05</td>\n",
       "      <td>-0.04</td>\n",
       "      <td>0.04</td>\n",
       "      <td>0.00</td>\n",
       "      <td>0.02</td>\n",
       "      <td>0.02</td>\n",
       "      <td>-0.03</td>\n",
       "      <td>0.03</td>\n",
       "      <td>0.04</td>\n",
       "      <td>-0.03</td>\n",
       "      <td>220.0</td>\n",
       "    </tr>\n",
       "    <tr>\n",
       "      <th>441</th>\n",
       "      <td>-0.05</td>\n",
       "      <td>-0.04</td>\n",
       "      <td>-0.07</td>\n",
       "      <td>-0.08</td>\n",
       "      <td>0.08</td>\n",
       "      <td>0.03</td>\n",
       "      <td>0.17</td>\n",
       "      <td>-0.04</td>\n",
       "      <td>-0.00</td>\n",
       "      <td>0.00</td>\n",
       "      <td>57.0</td>\n",
       "    </tr>\n",
       "  </tbody>\n",
       "</table>\n",
       "<p>442 rows × 11 columns</p>\n",
       "</div>"
      ],
      "text/plain": [
       "      age   sex   bmi    bp    s1    s2    s3    s4    s5    s6  target\n",
       "0    0.04  0.05  0.06  0.02 -0.04 -0.03 -0.04 -0.00  0.02 -0.02   151.0\n",
       "1   -0.00 -0.04 -0.05 -0.03 -0.01 -0.02  0.07 -0.04 -0.07 -0.09    75.0\n",
       "2    0.09  0.05  0.04 -0.01 -0.05 -0.03 -0.03 -0.00  0.00 -0.03   141.0\n",
       "3   -0.09 -0.04 -0.01 -0.04  0.01  0.02 -0.04  0.03  0.02 -0.01   206.0\n",
       "4    0.01 -0.04 -0.04  0.02  0.00  0.02  0.01 -0.00 -0.03 -0.05   135.0\n",
       "..    ...   ...   ...   ...   ...   ...   ...   ...   ...   ...     ...\n",
       "437  0.04  0.05  0.02  0.06 -0.01 -0.00 -0.03 -0.00  0.03  0.01   178.0\n",
       "438 -0.01  0.05 -0.02 -0.07  0.05  0.08 -0.03  0.03 -0.02  0.04   104.0\n",
       "439  0.04  0.05 -0.02  0.02 -0.04 -0.01 -0.02 -0.01 -0.05  0.02   132.0\n",
       "440 -0.05 -0.04  0.04  0.00  0.02  0.02 -0.03  0.03  0.04 -0.03   220.0\n",
       "441 -0.05 -0.04 -0.07 -0.08  0.08  0.03  0.17 -0.04 -0.00  0.00    57.0\n",
       "\n",
       "[442 rows x 11 columns]"
      ]
     },
     "execution_count": 13,
     "metadata": {},
     "output_type": "execute_result"
    }
   ],
   "source": [
    "X=X[:,0:4]\n",
    "print(X.shape)\n",
    "\n",
    "diabetes_df=pd.DataFrame(data=datasets.load_diabetes().data,\n",
    "                         columns=datasets.load_diabetes().feature_names)\n",
    "diabetes_df['target'] = datasets.load_diabetes().target\n",
    "diabetes_df.round(2)"
   ]
  },
  {
   "cell_type": "code",
   "execution_count": null,
   "id": "b4e0feb5",
   "metadata": {},
   "outputs": [
    {
     "data": {
      "application/vnd.microsoft.datawrangler.viewer.v0+json": {
       "columns": [
        {
         "name": "index",
         "rawType": "int64",
         "type": "integer"
        },
        {
         "name": "bmi",
         "rawType": "float64",
         "type": "float"
        }
       ],
       "ref": "3d6a0b1a-fd82-4813-bf75-b954f3a66335",
       "rows": [
        [
         "0",
         "0.061696206518683294"
        ],
        [
         "1",
         "-0.051474061238800654"
        ],
        [
         "2",
         "0.04445121333659049"
        ],
        [
         "3",
         "-0.011595014505211082"
        ],
        [
         "4",
         "-0.03638469220446948"
        ],
        [
         "5",
         "-0.040695940499992665"
        ],
        [
         "6",
         "-0.047162812943277475"
        ],
        [
         "7",
         "-0.0018947058402839008"
        ],
        [
         "8",
         "0.061696206518683294"
        ],
        [
         "9",
         "0.039062152967186486"
        ],
        [
         "10",
         "-0.08380842345522464"
        ],
        [
         "11",
         "0.0175059114895705"
        ],
        [
         "12",
         "-0.028840007687303888"
        ],
        [
         "13",
         "-0.0018947058402839008"
        ],
        [
         "14",
         "-0.02560657146566148"
        ],
        [
         "15",
         "-0.018061886948495892"
        ],
        [
         "16",
         "0.0422955891888289"
        ],
        [
         "17",
         "0.012116851120166501"
        ],
        [
         "18",
         "-0.010517202431330305"
        ],
        [
         "19",
         "-0.018061886948495892"
        ],
        [
         "20",
         "-0.05686312160820465"
        ],
        [
         "21",
         "-0.022373135244019075"
        ],
        [
         "22",
         "-0.004050329988045492"
        ],
        [
         "23",
         "0.06061839444480248"
        ],
        [
         "24",
         "0.03582871674554409"
        ],
        [
         "25",
         "-0.012672826579091896"
        ],
        [
         "26",
         "-0.07734155101193986"
        ],
        [
         "27",
         "0.05954058237092167"
        ],
        [
         "28",
         "-0.0212953231701383"
        ],
        [
         "29",
         "-0.006205954135807083"
        ],
        [
         "30",
         "0.04445121333659049"
        ],
        [
         "31",
         "-0.06548561819925106"
        ],
        [
         "32",
         "0.12528711887765046"
        ],
        [
         "33",
         "-0.050396249164919873"
        ],
        [
         "34",
         "-0.06332999405148947"
        ],
        [
         "35",
         "-0.03099563183506548"
        ],
        [
         "36",
         "0.022894971858974496"
        ],
        [
         "37",
         "0.011039039046285686"
        ],
        [
         "38",
         "0.07139651518361048"
        ],
        [
         "39",
         "0.014272475267928093"
        ],
        [
         "40",
         "-0.008361578283568675"
        ],
        [
         "41",
         "-0.06764124234701265"
        ],
        [
         "42",
         "-0.010517202431330305"
        ],
        [
         "43",
         "-0.023450947317899894"
        ],
        [
         "44",
         "0.0681630789619681"
        ],
        [
         "45",
         "-0.035306880130588664"
        ],
        [
         "46",
         "-0.011595014505211082"
        ],
        [
         "47",
         "-0.07303030271641665"
        ],
        [
         "48",
         "-0.041773752573873474"
        ],
        [
         "49",
         "0.014272475267928093"
        ]
       ],
       "shape": {
        "columns": 1,
        "rows": 442
       }
      },
      "text/plain": [
       "0      0.061696\n",
       "1     -0.051474\n",
       "2      0.044451\n",
       "3     -0.011595\n",
       "4     -0.036385\n",
       "         ...   \n",
       "437    0.019662\n",
       "438   -0.015906\n",
       "439   -0.015906\n",
       "440    0.039062\n",
       "441   -0.073030\n",
       "Name: bmi, Length: 442, dtype: float64"
      ]
     },
     "execution_count": 14,
     "metadata": {},
     "output_type": "execute_result"
    }
   ],
   "source": [
    "new_cols=[]\n",
    "# new_diabetes=new_diabetes.loc[:,new_cols]\n",
    "diabetes_df['bmi'].mean()\n"
   ]
  },
  {
   "cell_type": "code",
   "execution_count": 10,
   "id": "63a45cff",
   "metadata": {},
   "outputs": [
    {
     "data": {
      "text/html": [
       "<style>#sk-container-id-1 {color: black;background-color: white;}#sk-container-id-1 pre{padding: 0;}#sk-container-id-1 div.sk-toggleable {background-color: white;}#sk-container-id-1 label.sk-toggleable__label {cursor: pointer;display: block;width: 100%;margin-bottom: 0;padding: 0.3em;box-sizing: border-box;text-align: center;}#sk-container-id-1 label.sk-toggleable__label-arrow:before {content: \"▸\";float: left;margin-right: 0.25em;color: #696969;}#sk-container-id-1 label.sk-toggleable__label-arrow:hover:before {color: black;}#sk-container-id-1 div.sk-estimator:hover label.sk-toggleable__label-arrow:before {color: black;}#sk-container-id-1 div.sk-toggleable__content {max-height: 0;max-width: 0;overflow: hidden;text-align: left;background-color: #f0f8ff;}#sk-container-id-1 div.sk-toggleable__content pre {margin: 0.2em;color: black;border-radius: 0.25em;background-color: #f0f8ff;}#sk-container-id-1 input.sk-toggleable__control:checked~div.sk-toggleable__content {max-height: 200px;max-width: 100%;overflow: auto;}#sk-container-id-1 input.sk-toggleable__control:checked~label.sk-toggleable__label-arrow:before {content: \"▾\";}#sk-container-id-1 div.sk-estimator input.sk-toggleable__control:checked~label.sk-toggleable__label {background-color: #d4ebff;}#sk-container-id-1 div.sk-label input.sk-toggleable__control:checked~label.sk-toggleable__label {background-color: #d4ebff;}#sk-container-id-1 input.sk-hidden--visually {border: 0;clip: rect(1px 1px 1px 1px);clip: rect(1px, 1px, 1px, 1px);height: 1px;margin: -1px;overflow: hidden;padding: 0;position: absolute;width: 1px;}#sk-container-id-1 div.sk-estimator {font-family: monospace;background-color: #f0f8ff;border: 1px dotted black;border-radius: 0.25em;box-sizing: border-box;margin-bottom: 0.5em;}#sk-container-id-1 div.sk-estimator:hover {background-color: #d4ebff;}#sk-container-id-1 div.sk-parallel-item::after {content: \"\";width: 100%;border-bottom: 1px solid gray;flex-grow: 1;}#sk-container-id-1 div.sk-label:hover label.sk-toggleable__label {background-color: #d4ebff;}#sk-container-id-1 div.sk-serial::before {content: \"\";position: absolute;border-left: 1px solid gray;box-sizing: border-box;top: 0;bottom: 0;left: 50%;z-index: 0;}#sk-container-id-1 div.sk-serial {display: flex;flex-direction: column;align-items: center;background-color: white;padding-right: 0.2em;padding-left: 0.2em;position: relative;}#sk-container-id-1 div.sk-item {position: relative;z-index: 1;}#sk-container-id-1 div.sk-parallel {display: flex;align-items: stretch;justify-content: center;background-color: white;position: relative;}#sk-container-id-1 div.sk-item::before, #sk-container-id-1 div.sk-parallel-item::before {content: \"\";position: absolute;border-left: 1px solid gray;box-sizing: border-box;top: 0;bottom: 0;left: 50%;z-index: -1;}#sk-container-id-1 div.sk-parallel-item {display: flex;flex-direction: column;z-index: 1;position: relative;background-color: white;}#sk-container-id-1 div.sk-parallel-item:first-child::after {align-self: flex-end;width: 50%;}#sk-container-id-1 div.sk-parallel-item:last-child::after {align-self: flex-start;width: 50%;}#sk-container-id-1 div.sk-parallel-item:only-child::after {width: 0;}#sk-container-id-1 div.sk-dashed-wrapped {border: 1px dashed gray;margin: 0 0.4em 0.5em 0.4em;box-sizing: border-box;padding-bottom: 0.4em;background-color: white;}#sk-container-id-1 div.sk-label label {font-family: monospace;font-weight: bold;display: inline-block;line-height: 1.2em;}#sk-container-id-1 div.sk-label-container {text-align: center;}#sk-container-id-1 div.sk-container {/* jupyter's `normalize.less` sets `[hidden] { display: none; }` but bootstrap.min.css set `[hidden] { display: none !important; }` so we also need the `!important` here to be able to override the default hidden behavior on the sphinx rendered scikit-learn.org. See: https://github.com/scikit-learn/scikit-learn/issues/21755 */display: inline-block !important;position: relative;}#sk-container-id-1 div.sk-text-repr-fallback {display: none;}</style><div id=\"sk-container-id-1\" class=\"sk-top-container\"><div class=\"sk-text-repr-fallback\"><pre>LinearRegression()</pre><b>In a Jupyter environment, please rerun this cell to show the HTML representation or trust the notebook. <br />On GitHub, the HTML representation is unable to render, please try loading this page with nbviewer.org.</b></div><div class=\"sk-container\" hidden><div class=\"sk-item\"><div class=\"sk-estimator sk-toggleable\"><input class=\"sk-toggleable__control sk-hidden--visually\" id=\"sk-estimator-id-1\" type=\"checkbox\" checked><label for=\"sk-estimator-id-1\" class=\"sk-toggleable__label sk-toggleable__label-arrow\">LinearRegression</label><div class=\"sk-toggleable__content\"><pre>LinearRegression()</pre></div></div></div></div></div>"
      ],
      "text/plain": [
       "LinearRegression()"
      ]
     },
     "execution_count": 10,
     "metadata": {},
     "output_type": "execute_result"
    }
   ],
   "source": [
    "X_train,X_test,y_train,y_test=model_selection.train_test_split(X,y,test_size=0.33)\n",
    "model=linear_model.LinearRegression()\n",
    "model.fit(X_train,y_train)"
   ]
  },
  {
   "cell_type": "code",
   "execution_count": 11,
   "id": "9c776001",
   "metadata": {},
   "outputs": [],
   "source": [
    "y_pred=model.predict(X_test)"
   ]
  },
  {
   "cell_type": "code",
   "execution_count": 12,
   "id": "a15cec6e",
   "metadata": {},
   "outputs": [
    {
     "ename": "ValueError",
     "evalue": "x and y must be the same size",
     "output_type": "error",
     "traceback": [
      "\u001b[1;31m---------------------------------------------------------------------------\u001b[0m",
      "\u001b[1;31mValueError\u001b[0m                                Traceback (most recent call last)",
      "Input \u001b[1;32mIn [12]\u001b[0m, in \u001b[0;36m<cell line: 1>\u001b[1;34m()\u001b[0m\n\u001b[1;32m----> 1\u001b[0m \u001b[43mplt\u001b[49m\u001b[38;5;241;43m.\u001b[39;49m\u001b[43mscatter\u001b[49m\u001b[43m(\u001b[49m\u001b[43mX_test\u001b[49m\u001b[43m,\u001b[49m\u001b[43m \u001b[49m\u001b[43my_test\u001b[49m\u001b[43m,\u001b[49m\u001b[43m  \u001b[49m\u001b[43mcolor\u001b[49m\u001b[38;5;241;43m=\u001b[39;49m\u001b[38;5;124;43m'\u001b[39;49m\u001b[38;5;124;43mblack\u001b[39;49m\u001b[38;5;124;43m'\u001b[39;49m\u001b[43m)\u001b[49m\n\u001b[0;32m      2\u001b[0m plt\u001b[38;5;241m.\u001b[39mplot(X_test, y_pred, color\u001b[38;5;241m=\u001b[39m\u001b[38;5;124m'\u001b[39m\u001b[38;5;124mblue\u001b[39m\u001b[38;5;124m'\u001b[39m, linewidth\u001b[38;5;241m=\u001b[39m\u001b[38;5;241m3\u001b[39m)\n\u001b[0;32m      3\u001b[0m plt\u001b[38;5;241m.\u001b[39mxlabel(\u001b[38;5;124m'\u001b[39m\u001b[38;5;124mScaled BMIs\u001b[39m\u001b[38;5;124m'\u001b[39m)\n",
      "File \u001b[1;32mc:\\Users\\ashut\\AppData\\Local\\Programs\\Python\\Python310\\lib\\site-packages\\matplotlib\\pyplot.py:2862\u001b[0m, in \u001b[0;36mscatter\u001b[1;34m(x, y, s, c, marker, cmap, norm, vmin, vmax, alpha, linewidths, edgecolors, plotnonfinite, data, **kwargs)\u001b[0m\n\u001b[0;32m   2857\u001b[0m \u001b[38;5;129m@_copy_docstring_and_deprecators\u001b[39m(Axes\u001b[38;5;241m.\u001b[39mscatter)\n\u001b[0;32m   2858\u001b[0m \u001b[38;5;28;01mdef\u001b[39;00m \u001b[38;5;21mscatter\u001b[39m(\n\u001b[0;32m   2859\u001b[0m         x, y, s\u001b[38;5;241m=\u001b[39m\u001b[38;5;28;01mNone\u001b[39;00m, c\u001b[38;5;241m=\u001b[39m\u001b[38;5;28;01mNone\u001b[39;00m, marker\u001b[38;5;241m=\u001b[39m\u001b[38;5;28;01mNone\u001b[39;00m, cmap\u001b[38;5;241m=\u001b[39m\u001b[38;5;28;01mNone\u001b[39;00m, norm\u001b[38;5;241m=\u001b[39m\u001b[38;5;28;01mNone\u001b[39;00m,\n\u001b[0;32m   2860\u001b[0m         vmin\u001b[38;5;241m=\u001b[39m\u001b[38;5;28;01mNone\u001b[39;00m, vmax\u001b[38;5;241m=\u001b[39m\u001b[38;5;28;01mNone\u001b[39;00m, alpha\u001b[38;5;241m=\u001b[39m\u001b[38;5;28;01mNone\u001b[39;00m, linewidths\u001b[38;5;241m=\u001b[39m\u001b[38;5;28;01mNone\u001b[39;00m, \u001b[38;5;241m*\u001b[39m,\n\u001b[0;32m   2861\u001b[0m         edgecolors\u001b[38;5;241m=\u001b[39m\u001b[38;5;28;01mNone\u001b[39;00m, plotnonfinite\u001b[38;5;241m=\u001b[39m\u001b[38;5;28;01mFalse\u001b[39;00m, data\u001b[38;5;241m=\u001b[39m\u001b[38;5;28;01mNone\u001b[39;00m, \u001b[38;5;241m*\u001b[39m\u001b[38;5;241m*\u001b[39mkwargs):\n\u001b[1;32m-> 2862\u001b[0m     __ret \u001b[38;5;241m=\u001b[39m gca()\u001b[38;5;241m.\u001b[39mscatter(\n\u001b[0;32m   2863\u001b[0m         x, y, s\u001b[38;5;241m=\u001b[39ms, c\u001b[38;5;241m=\u001b[39mc, marker\u001b[38;5;241m=\u001b[39mmarker, cmap\u001b[38;5;241m=\u001b[39mcmap, norm\u001b[38;5;241m=\u001b[39mnorm,\n\u001b[0;32m   2864\u001b[0m         vmin\u001b[38;5;241m=\u001b[39mvmin, vmax\u001b[38;5;241m=\u001b[39mvmax, alpha\u001b[38;5;241m=\u001b[39malpha, linewidths\u001b[38;5;241m=\u001b[39mlinewidths,\n\u001b[0;32m   2865\u001b[0m         edgecolors\u001b[38;5;241m=\u001b[39medgecolors, plotnonfinite\u001b[38;5;241m=\u001b[39mplotnonfinite,\n\u001b[0;32m   2866\u001b[0m         \u001b[38;5;241m*\u001b[39m\u001b[38;5;241m*\u001b[39m({\u001b[38;5;124m\"\u001b[39m\u001b[38;5;124mdata\u001b[39m\u001b[38;5;124m\"\u001b[39m: data} \u001b[38;5;28;01mif\u001b[39;00m data \u001b[38;5;129;01mis\u001b[39;00m \u001b[38;5;129;01mnot\u001b[39;00m \u001b[38;5;28;01mNone\u001b[39;00m \u001b[38;5;28;01melse\u001b[39;00m {}), \u001b[38;5;241m*\u001b[39m\u001b[38;5;241m*\u001b[39mkwargs)\n\u001b[0;32m   2867\u001b[0m     sci(__ret)\n\u001b[0;32m   2868\u001b[0m     \u001b[38;5;28;01mreturn\u001b[39;00m __ret\n",
      "File \u001b[1;32mc:\\Users\\ashut\\AppData\\Local\\Programs\\Python\\Python310\\lib\\site-packages\\matplotlib\\__init__.py:1459\u001b[0m, in \u001b[0;36m_preprocess_data.<locals>.inner\u001b[1;34m(ax, data, *args, **kwargs)\u001b[0m\n\u001b[0;32m   1456\u001b[0m \u001b[38;5;129m@functools\u001b[39m\u001b[38;5;241m.\u001b[39mwraps(func)\n\u001b[0;32m   1457\u001b[0m \u001b[38;5;28;01mdef\u001b[39;00m \u001b[38;5;21minner\u001b[39m(ax, \u001b[38;5;241m*\u001b[39margs, data\u001b[38;5;241m=\u001b[39m\u001b[38;5;28;01mNone\u001b[39;00m, \u001b[38;5;241m*\u001b[39m\u001b[38;5;241m*\u001b[39mkwargs):\n\u001b[0;32m   1458\u001b[0m     \u001b[38;5;28;01mif\u001b[39;00m data \u001b[38;5;129;01mis\u001b[39;00m \u001b[38;5;28;01mNone\u001b[39;00m:\n\u001b[1;32m-> 1459\u001b[0m         \u001b[38;5;28;01mreturn\u001b[39;00m func(ax, \u001b[38;5;241m*\u001b[39m\u001b[38;5;28mmap\u001b[39m(sanitize_sequence, args), \u001b[38;5;241m*\u001b[39m\u001b[38;5;241m*\u001b[39mkwargs)\n\u001b[0;32m   1461\u001b[0m     bound \u001b[38;5;241m=\u001b[39m new_sig\u001b[38;5;241m.\u001b[39mbind(ax, \u001b[38;5;241m*\u001b[39margs, \u001b[38;5;241m*\u001b[39m\u001b[38;5;241m*\u001b[39mkwargs)\n\u001b[0;32m   1462\u001b[0m     auto_label \u001b[38;5;241m=\u001b[39m (bound\u001b[38;5;241m.\u001b[39marguments\u001b[38;5;241m.\u001b[39mget(label_namer)\n\u001b[0;32m   1463\u001b[0m                   \u001b[38;5;129;01mor\u001b[39;00m bound\u001b[38;5;241m.\u001b[39mkwargs\u001b[38;5;241m.\u001b[39mget(label_namer))\n",
      "File \u001b[1;32mc:\\Users\\ashut\\AppData\\Local\\Programs\\Python\\Python310\\lib\\site-packages\\matplotlib\\axes\\_axes.py:4584\u001b[0m, in \u001b[0;36mAxes.scatter\u001b[1;34m(self, x, y, s, c, marker, cmap, norm, vmin, vmax, alpha, linewidths, edgecolors, plotnonfinite, **kwargs)\u001b[0m\n\u001b[0;32m   4582\u001b[0m y \u001b[38;5;241m=\u001b[39m np\u001b[38;5;241m.\u001b[39mma\u001b[38;5;241m.\u001b[39mravel(y)\n\u001b[0;32m   4583\u001b[0m \u001b[38;5;28;01mif\u001b[39;00m x\u001b[38;5;241m.\u001b[39msize \u001b[38;5;241m!=\u001b[39m y\u001b[38;5;241m.\u001b[39msize:\n\u001b[1;32m-> 4584\u001b[0m     \u001b[38;5;28;01mraise\u001b[39;00m \u001b[38;5;167;01mValueError\u001b[39;00m(\u001b[38;5;124m\"\u001b[39m\u001b[38;5;124mx and y must be the same size\u001b[39m\u001b[38;5;124m\"\u001b[39m)\n\u001b[0;32m   4586\u001b[0m \u001b[38;5;28;01mif\u001b[39;00m s \u001b[38;5;129;01mis\u001b[39;00m \u001b[38;5;28;01mNone\u001b[39;00m:\n\u001b[0;32m   4587\u001b[0m     s \u001b[38;5;241m=\u001b[39m (\u001b[38;5;241m20\u001b[39m \u001b[38;5;28;01mif\u001b[39;00m mpl\u001b[38;5;241m.\u001b[39mrcParams[\u001b[38;5;124m'\u001b[39m\u001b[38;5;124m_internal.classic_mode\u001b[39m\u001b[38;5;124m'\u001b[39m] \u001b[38;5;28;01melse\u001b[39;00m\n\u001b[0;32m   4588\u001b[0m          mpl\u001b[38;5;241m.\u001b[39mrcParams[\u001b[38;5;124m'\u001b[39m\u001b[38;5;124mlines.markersize\u001b[39m\u001b[38;5;124m'\u001b[39m] \u001b[38;5;241m*\u001b[39m\u001b[38;5;241m*\u001b[39m \u001b[38;5;241m2.0\u001b[39m)\n",
      "\u001b[1;31mValueError\u001b[0m: x and y must be the same size"
     ]
    },
    {
     "data": {
      "image/png": "[encoded data removed]",
      "text/plain": [
       "<Figure size 432x288 with 1 Axes>"
      ]
     },
     "metadata": {
      "needs_background": "light"
     },
     "output_type": "display_data"
    }
   ],
   "source": [
    "plt.scatter(X_test, y_test,  color='black')\n",
    "plt.plot(X_test, y_pred, color='blue', linewidth=3)\n",
    "plt.xlabel('Scaled BMIs')\n",
    "plt.ylabel('Disease Progression')\n",
    "plt.title('A Graph Plot Showing Diabetes Progression Against BMI')\n",
    "plt.show()"
   ]
  },
  {
   "cell_type": "code",
   "execution_count": null,
   "id": "6f2b3349",
   "metadata": {},
   "outputs": [],
   "source": []
  }
 ],
 "metadata": {
  "kernelspec": {
   "display_name": "Python 3",
   "language": "python",
   "name": "python3"
  },
  "language_info": {
   "codemirror_mode": {
    "name": "ipython",
    "version": 3
   },
   "file_extension": ".py",
   "mimetype": "text/x-python",
   "name": "python",
   "nbconvert_exporter": "python",
   "pygments_lexer": "ipython3",
   "version": "3.10.5"
  }
 },
 "nbformat": 4,
 "nbformat_minor": 5
}
