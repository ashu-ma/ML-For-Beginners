{
 "cells": [
  {
   "cell_type": "markdown",
   "metadata": {},
   "source": [
    "Linear regression for pumpkins dataset"
   ]
  },
  {
   "cell_type": "code",
   "execution_count": 13,
   "metadata": {},
   "outputs": [],
   "source": [
    "import pandas as pd\n",
    "import matplotlib.pyplot as plt"
   ]
  },
  {
   "cell_type": "code",
   "execution_count": 3,
   "metadata": {},
   "outputs": [
    {
     "data": {
      "application/vnd.microsoft.datawrangler.viewer.v0+json": {
       "columns": [
        {
         "name": "index",
         "rawType": "int64",
         "type": "integer"
        },
        {
         "name": "City Name",
         "rawType": "object",
         "type": "string"
        },
        {
         "name": "Type",
         "rawType": "object",
         "type": "unknown"
        },
        {
         "name": "Package",
         "rawType": "object",
         "type": "string"
        },
        {
         "name": "Variety",
         "rawType": "object",
         "type": "string"
        },
        {
         "name": "Sub Variety",
         "rawType": "object",
         "type": "unknown"
        },
        {
         "name": "Grade",
         "rawType": "float64",
         "type": "float"
        },
        {
         "name": "Date",
         "rawType": "object",
         "type": "string"
        },
        {
         "name": "Low Price",
         "rawType": "float64",
         "type": "float"
        },
        {
         "name": "High Price",
         "rawType": "float64",
         "type": "float"
        },
        {
         "name": "Mostly Low",
         "rawType": "float64",
         "type": "float"
        },
        {
         "name": "Mostly High",
         "rawType": "float64",
         "type": "float"
        },
        {
         "name": "Origin",
         "rawType": "object",
         "type": "string"
        },
        {
         "name": "Origin District",
         "rawType": "object",
         "type": "unknown"
        },
        {
         "name": "Item Size",
         "rawType": "object",
         "type": "unknown"
        },
        {
         "name": "Color",
         "rawType": "object",
         "type": "string"
        },
        {
         "name": "Environment",
         "rawType": "float64",
         "type": "float"
        },
        {
         "name": "Unit of Sale",
         "rawType": "object",
         "type": "unknown"
        },
        {
         "name": "Quality",
         "rawType": "float64",
         "type": "float"
        },
        {
         "name": "Condition",
         "rawType": "float64",
         "type": "float"
        },
        {
         "name": "Appearance",
         "rawType": "float64",
         "type": "float"
        },
        {
         "name": "Storage",
         "rawType": "float64",
         "type": "float"
        },
        {
         "name": "Crop",
         "rawType": "float64",
         "type": "float"
        },
        {
         "name": "Repack",
         "rawType": "object",
         "type": "string"
        },
        {
         "name": "Trans Mode",
         "rawType": "float64",
         "type": "float"
        },
        {
         "name": "Unnamed: 24",
         "rawType": "float64",
         "type": "float"
        },
        {
         "name": "Unnamed: 25",
         "rawType": "object",
         "type": "unknown"
        }
       ],
       "ref": "77bc0a90-6ffe-452f-9f19-38e5b2afaaf7",
       "rows": [
        [
         "70",
         "BALTIMORE",
         null,
         "1 1/9 bushel cartons",
         "PIE TYPE",
         null,
         null,
         "9/24/16",
         "15.0",
         "15.0",
         "15.0",
         "15.0",
         "DELAWARE",
         null,
         "med",
         "ORANGE",
         null,
         null,
         null,
         null,
         null,
         null,
         null,
         "N",
         null,
         null,
         null
        ],
        [
         "71",
         "BALTIMORE",
         null,
         "1 1/9 bushel cartons",
         "PIE TYPE",
         null,
         null,
         "9/24/16",
         "18.0",
         "18.0",
         "18.0",
         "18.0",
         "DELAWARE",
         null,
         "sml",
         "ORANGE",
         null,
         null,
         null,
         null,
         null,
         null,
         null,
         "N",
         null,
         null,
         null
        ],
        [
         "72",
         "BALTIMORE",
         null,
         "1 1/9 bushel cartons",
         "PIE TYPE",
         null,
         null,
         "10/1/16",
         "18.0",
         "18.0",
         "18.0",
         "18.0",
         "DELAWARE",
         null,
         "sml",
         "ORANGE",
         null,
         null,
         null,
         null,
         null,
         null,
         null,
         "N",
         null,
         null,
         null
        ],
        [
         "73",
         "BALTIMORE",
         null,
         "1 1/9 bushel cartons",
         "PIE TYPE",
         null,
         null,
         "10/1/16",
         "17.0",
         "17.0",
         "17.0",
         "17.0",
         "OHIO",
         null,
         "med",
         "ORANGE",
         null,
         null,
         null,
         null,
         null,
         null,
         null,
         "N",
         null,
         null,
         null
        ],
        [
         "74",
         "BALTIMORE",
         null,
         "1 1/9 bushel cartons",
         "PIE TYPE",
         null,
         null,
         "10/8/16",
         "15.0",
         "15.0",
         "15.0",
         "15.0",
         "DELAWARE",
         null,
         null,
         "ORANGE",
         null,
         null,
         null,
         null,
         null,
         null,
         null,
         "N",
         null,
         null,
         null
        ]
       ],
       "shape": {
        "columns": 26,
        "rows": 5
       }
      },
      "text/html": [
       "<div>\n",
       "<style scoped>\n",
       "    .dataframe tbody tr th:only-of-type {\n",
       "        vertical-align: middle;\n",
       "    }\n",
       "\n",
       "    .dataframe tbody tr th {\n",
       "        vertical-align: top;\n",
       "    }\n",
       "\n",
       "    .dataframe thead th {\n",
       "        text-align: right;\n",
       "    }\n",
       "</style>\n",
       "<table border=\"1\" class=\"dataframe\">\n",
       "  <thead>\n",
       "    <tr style=\"text-align: right;\">\n",
       "      <th></th>\n",
       "      <th>City Name</th>\n",
       "      <th>Type</th>\n",
       "      <th>Package</th>\n",
       "      <th>Variety</th>\n",
       "      <th>Sub Variety</th>\n",
       "      <th>Grade</th>\n",
       "      <th>Date</th>\n",
       "      <th>Low Price</th>\n",
       "      <th>High Price</th>\n",
       "      <th>Mostly Low</th>\n",
       "      <th>...</th>\n",
       "      <th>Unit of Sale</th>\n",
       "      <th>Quality</th>\n",
       "      <th>Condition</th>\n",
       "      <th>Appearance</th>\n",
       "      <th>Storage</th>\n",
       "      <th>Crop</th>\n",
       "      <th>Repack</th>\n",
       "      <th>Trans Mode</th>\n",
       "      <th>Unnamed: 24</th>\n",
       "      <th>Unnamed: 25</th>\n",
       "    </tr>\n",
       "  </thead>\n",
       "  <tbody>\n",
       "    <tr>\n",
       "      <th>70</th>\n",
       "      <td>BALTIMORE</td>\n",
       "      <td>NaN</td>\n",
       "      <td>1 1/9 bushel cartons</td>\n",
       "      <td>PIE TYPE</td>\n",
       "      <td>NaN</td>\n",
       "      <td>NaN</td>\n",
       "      <td>9/24/16</td>\n",
       "      <td>15.0</td>\n",
       "      <td>15.0</td>\n",
       "      <td>15.0</td>\n",
       "      <td>...</td>\n",
       "      <td>NaN</td>\n",
       "      <td>NaN</td>\n",
       "      <td>NaN</td>\n",
       "      <td>NaN</td>\n",
       "      <td>NaN</td>\n",
       "      <td>NaN</td>\n",
       "      <td>N</td>\n",
       "      <td>NaN</td>\n",
       "      <td>NaN</td>\n",
       "      <td>NaN</td>\n",
       "    </tr>\n",
       "    <tr>\n",
       "      <th>71</th>\n",
       "      <td>BALTIMORE</td>\n",
       "      <td>NaN</td>\n",
       "      <td>1 1/9 bushel cartons</td>\n",
       "      <td>PIE TYPE</td>\n",
       "      <td>NaN</td>\n",
       "      <td>NaN</td>\n",
       "      <td>9/24/16</td>\n",
       "      <td>18.0</td>\n",
       "      <td>18.0</td>\n",
       "      <td>18.0</td>\n",
       "      <td>...</td>\n",
       "      <td>NaN</td>\n",
       "      <td>NaN</td>\n",
       "      <td>NaN</td>\n",
       "      <td>NaN</td>\n",
       "      <td>NaN</td>\n",
       "      <td>NaN</td>\n",
       "      <td>N</td>\n",
       "      <td>NaN</td>\n",
       "      <td>NaN</td>\n",
       "      <td>NaN</td>\n",
       "    </tr>\n",
       "    <tr>\n",
       "      <th>72</th>\n",
       "      <td>BALTIMORE</td>\n",
       "      <td>NaN</td>\n",
       "      <td>1 1/9 bushel cartons</td>\n",
       "      <td>PIE TYPE</td>\n",
       "      <td>NaN</td>\n",
       "      <td>NaN</td>\n",
       "      <td>10/1/16</td>\n",
       "      <td>18.0</td>\n",
       "      <td>18.0</td>\n",
       "      <td>18.0</td>\n",
       "      <td>...</td>\n",
       "      <td>NaN</td>\n",
       "      <td>NaN</td>\n",
       "      <td>NaN</td>\n",
       "      <td>NaN</td>\n",
       "      <td>NaN</td>\n",
       "      <td>NaN</td>\n",
       "      <td>N</td>\n",
       "      <td>NaN</td>\n",
       "      <td>NaN</td>\n",
       "      <td>NaN</td>\n",
       "    </tr>\n",
       "    <tr>\n",
       "      <th>73</th>\n",
       "      <td>BALTIMORE</td>\n",
       "      <td>NaN</td>\n",
       "      <td>1 1/9 bushel cartons</td>\n",
       "      <td>PIE TYPE</td>\n",
       "      <td>NaN</td>\n",
       "      <td>NaN</td>\n",
       "      <td>10/1/16</td>\n",
       "      <td>17.0</td>\n",
       "      <td>17.0</td>\n",
       "      <td>17.0</td>\n",
       "      <td>...</td>\n",
       "      <td>NaN</td>\n",
       "      <td>NaN</td>\n",
       "      <td>NaN</td>\n",
       "      <td>NaN</td>\n",
       "      <td>NaN</td>\n",
       "      <td>NaN</td>\n",
       "      <td>N</td>\n",
       "      <td>NaN</td>\n",
       "      <td>NaN</td>\n",
       "      <td>NaN</td>\n",
       "    </tr>\n",
       "    <tr>\n",
       "      <th>74</th>\n",
       "      <td>BALTIMORE</td>\n",
       "      <td>NaN</td>\n",
       "      <td>1 1/9 bushel cartons</td>\n",
       "      <td>PIE TYPE</td>\n",
       "      <td>NaN</td>\n",
       "      <td>NaN</td>\n",
       "      <td>10/8/16</td>\n",
       "      <td>15.0</td>\n",
       "      <td>15.0</td>\n",
       "      <td>15.0</td>\n",
       "      <td>...</td>\n",
       "      <td>NaN</td>\n",
       "      <td>NaN</td>\n",
       "      <td>NaN</td>\n",
       "      <td>NaN</td>\n",
       "      <td>NaN</td>\n",
       "      <td>NaN</td>\n",
       "      <td>N</td>\n",
       "      <td>NaN</td>\n",
       "      <td>NaN</td>\n",
       "      <td>NaN</td>\n",
       "    </tr>\n",
       "  </tbody>\n",
       "</table>\n",
       "<p>5 rows × 26 columns</p>\n",
       "</div>"
      ],
      "text/plain": [
       "    City Name Type               Package   Variety Sub Variety  Grade  \\\n",
       "70  BALTIMORE  NaN  1 1/9 bushel cartons  PIE TYPE         NaN    NaN   \n",
       "71  BALTIMORE  NaN  1 1/9 bushel cartons  PIE TYPE         NaN    NaN   \n",
       "72  BALTIMORE  NaN  1 1/9 bushel cartons  PIE TYPE         NaN    NaN   \n",
       "73  BALTIMORE  NaN  1 1/9 bushel cartons  PIE TYPE         NaN    NaN   \n",
       "74  BALTIMORE  NaN  1 1/9 bushel cartons  PIE TYPE         NaN    NaN   \n",
       "\n",
       "       Date  Low Price  High Price  Mostly Low  ...  Unit of Sale Quality  \\\n",
       "70  9/24/16       15.0        15.0        15.0  ...           NaN     NaN   \n",
       "71  9/24/16       18.0        18.0        18.0  ...           NaN     NaN   \n",
       "72  10/1/16       18.0        18.0        18.0  ...           NaN     NaN   \n",
       "73  10/1/16       17.0        17.0        17.0  ...           NaN     NaN   \n",
       "74  10/8/16       15.0        15.0        15.0  ...           NaN     NaN   \n",
       "\n",
       "   Condition Appearance Storage  Crop Repack  Trans Mode  Unnamed: 24  \\\n",
       "70       NaN        NaN     NaN   NaN      N         NaN          NaN   \n",
       "71       NaN        NaN     NaN   NaN      N         NaN          NaN   \n",
       "72       NaN        NaN     NaN   NaN      N         NaN          NaN   \n",
       "73       NaN        NaN     NaN   NaN      N         NaN          NaN   \n",
       "74       NaN        NaN     NaN   NaN      N         NaN          NaN   \n",
       "\n",
       "    Unnamed: 25  \n",
       "70          NaN  \n",
       "71          NaN  \n",
       "72          NaN  \n",
       "73          NaN  \n",
       "74          NaN  \n",
       "\n",
       "[5 rows x 26 columns]"
      ]
     },
     "execution_count": 3,
     "metadata": {},
     "output_type": "execute_result"
    }
   ],
   "source": [
    "pumpkins=pd.read_csv('../data/US-pumpkins.csv')\n",
    "\n",
    "#filter out any rows that don't use price per bushel\n",
    "pumpkins=pumpkins[pumpkins['Package'].str.contains('bushel',case=True,regex=True)]\n",
    "pumpkins.head()"
   ]
  },
  {
   "cell_type": "code",
   "execution_count": null,
   "metadata": {},
   "outputs": [
    {
     "data": {
      "application/vnd.microsoft.datawrangler.viewer.v0+json": {
       "columns": [
        {
         "name": "index",
         "rawType": "object",
         "type": "string"
        },
        {
         "name": "0",
         "rawType": "int64",
         "type": "integer"
        }
       ],
       "ref": "3e5d8952-24ec-4b56-91ec-604cc4e732df",
       "rows": [
        [
         "City Name",
         "0"
        ],
        [
         "Type",
         "406"
        ],
        [
         "Package",
         "0"
        ],
        [
         "Variety",
         "0"
        ],
        [
         "Sub Variety",
         "167"
        ],
        [
         "Grade",
         "415"
        ],
        [
         "Date",
         "0"
        ],
        [
         "Low Price",
         "0"
        ],
        [
         "High Price",
         "0"
        ],
        [
         "Mostly Low",
         "24"
        ],
        [
         "Mostly High",
         "24"
        ],
        [
         "Origin",
         "0"
        ],
        [
         "Origin District",
         "396"
        ],
        [
         "Item Size",
         "114"
        ],
        [
         "Color",
         "145"
        ],
        [
         "Environment",
         "415"
        ],
        [
         "Unit of Sale",
         "404"
        ],
        [
         "Quality",
         "415"
        ],
        [
         "Condition",
         "415"
        ],
        [
         "Appearance",
         "415"
        ],
        [
         "Storage",
         "415"
        ],
        [
         "Crop",
         "415"
        ],
        [
         "Repack",
         "0"
        ],
        [
         "Trans Mode",
         "415"
        ],
        [
         "Unnamed: 24",
         "415"
        ],
        [
         "Unnamed: 25",
         "391"
        ]
       ],
       "shape": {
        "columns": 1,
        "rows": 26
       }
      },
      "text/plain": [
       "City Name            0\n",
       "Type               406\n",
       "Package              0\n",
       "Variety              0\n",
       "Sub Variety        167\n",
       "Grade              415\n",
       "Date                 0\n",
       "Low Price            0\n",
       "High Price           0\n",
       "Mostly Low          24\n",
       "Mostly High         24\n",
       "Origin               0\n",
       "Origin District    396\n",
       "Item Size          114\n",
       "Color              145\n",
       "Environment        415\n",
       "Unit of Sale       404\n",
       "Quality            415\n",
       "Condition          415\n",
       "Appearance         415\n",
       "Storage            415\n",
       "Crop               415\n",
       "Repack               0\n",
       "Trans Mode         415\n",
       "Unnamed: 24        415\n",
       "Unnamed: 25        391\n",
       "dtype: int64"
      ]
     },
     "execution_count": 4,
     "metadata": {},
     "output_type": "execute_result"
    }
   ],
   "source": [
    "#missing data in each column\n",
    "pumpkins.isnull().sum()"
   ]
  },
  {
   "cell_type": "code",
   "execution_count": 6,
   "metadata": {},
   "outputs": [],
   "source": [
    "#new columns we want to keep\n",
    "new_columns=['Package', 'Low Price', 'High Price', 'Date']\n",
    "\n",
    "#drop other columns\n",
    "# pumpkins=pumpkins.drop([c for c in pumpkins.columns if c not in new_columns],axis=1)\n",
    "pumpkins = pumpkins.loc[:, new_columns]\n",
    "# using the loc function which extracts from the original dataframe a group of rows (passed as first parameter) and columns (passed as second parameter). The expression : in the case below means \"all rows\"."
   ]
  },
  {
   "cell_type": "code",
   "execution_count": 7,
   "metadata": {},
   "outputs": [],
   "source": [
    "#calculate av price\n",
    "price=(pumpkins['Low Price']+pumpkins['High Price'])/2\n",
    "\n",
    "#extract the month\n",
    "month=pd.DatetimeIndex(pumpkins['Date']).month\n",
    "# pumpkins['month'] = pd.to_datetime(pumpkins['date']).dt.month"
   ]
  },
  {
   "cell_type": "code",
   "execution_count": 8,
   "metadata": {},
   "outputs": [
    {
     "data": {
      "application/vnd.microsoft.datawrangler.viewer.v0+json": {
       "columns": [
        {
         "name": "index",
         "rawType": "int64",
         "type": "integer"
        },
        {
         "name": "Month",
         "rawType": "int32",
         "type": "integer"
        },
        {
         "name": "Package",
         "rawType": "object",
         "type": "string"
        },
        {
         "name": "Low Price",
         "rawType": "float64",
         "type": "float"
        },
        {
         "name": "High Price",
         "rawType": "float64",
         "type": "float"
        },
        {
         "name": "Price",
         "rawType": "float64",
         "type": "float"
        }
       ],
       "ref": "bdeaabaf-36b0-4129-a74c-b05c98dd2838",
       "rows": [
        [
         "70",
         "9",
         "1 1/9 bushel cartons",
         "15.0",
         "15.0",
         "15.0"
        ],
        [
         "71",
         "9",
         "1 1/9 bushel cartons",
         "18.0",
         "18.0",
         "18.0"
        ],
        [
         "72",
         "10",
         "1 1/9 bushel cartons",
         "18.0",
         "18.0",
         "18.0"
        ],
        [
         "73",
         "10",
         "1 1/9 bushel cartons",
         "17.0",
         "17.0",
         "17.0"
        ],
        [
         "74",
         "10",
         "1 1/9 bushel cartons",
         "15.0",
         "15.0",
         "15.0"
        ],
        [
         "75",
         "10",
         "1 1/9 bushel cartons",
         "18.0",
         "18.0",
         "18.0"
        ],
        [
         "76",
         "10",
         "1 1/9 bushel cartons",
         "17.0",
         "17.0",
         "17.0"
        ],
        [
         "77",
         "10",
         "1 1/9 bushel cartons",
         "17.0",
         "18.5",
         "17.75"
        ],
        [
         "78",
         "10",
         "1 1/9 bushel cartons",
         "15.0",
         "15.0",
         "15.0"
        ],
        [
         "79",
         "10",
         "1 1/9 bushel cartons",
         "17.0",
         "17.0",
         "17.0"
        ],
        [
         "80",
         "10",
         "1 1/9 bushel cartons",
         "17.0",
         "18.5",
         "17.75"
        ],
        [
         "81",
         "10",
         "1 1/9 bushel cartons",
         "15.0",
         "15.0",
         "15.0"
        ],
        [
         "82",
         "10",
         "1 1/9 bushel cartons",
         "17.0",
         "17.0",
         "17.0"
        ],
        [
         "83",
         "10",
         "1 1/9 bushel cartons",
         "17.0",
         "18.5",
         "17.75"
        ],
        [
         "84",
         "10",
         "1 1/9 bushel cartons",
         "15.0",
         "15.0",
         "15.0"
        ],
        [
         "85",
         "10",
         "1 1/9 bushel cartons",
         "16.0",
         "17.0",
         "16.5"
        ],
        [
         "86",
         "10",
         "1 1/9 bushel cartons",
         "16.0",
         "18.0",
         "17.0"
        ],
        [
         "87",
         "9",
         "1 1/9 bushel cartons",
         "18.0",
         "18.0",
         "18.0"
        ],
        [
         "88",
         "9",
         "1 1/9 bushel cartons",
         "16.0",
         "16.0",
         "16.0"
        ],
        [
         "89",
         "9",
         "1 1/9 bushel cartons",
         "18.0",
         "18.0",
         "18.0"
        ],
        [
         "90",
         "9",
         "1 1/9 bushel cartons",
         "16.0",
         "16.0",
         "16.0"
        ],
        [
         "91",
         "9",
         "1 1/9 bushel cartons",
         "16.0",
         "16.0",
         "16.0"
        ],
        [
         "92",
         "9",
         "1 1/9 bushel cartons",
         "16.0",
         "16.0",
         "16.0"
        ],
        [
         "123",
         "9",
         "1/2 bushel cartons",
         "18.0",
         "18.0",
         "18.0"
        ],
        [
         "124",
         "9",
         "1/2 bushel cartons",
         "15.0",
         "15.0",
         "15.0"
        ],
        [
         "125",
         "10",
         "1/2 bushel cartons",
         "18.0",
         "18.0",
         "18.0"
        ],
        [
         "126",
         "10",
         "1/2 bushel cartons",
         "15.0",
         "15.0",
         "15.0"
        ],
        [
         "127",
         "10",
         "1/2 bushel cartons",
         "17.0",
         "17.0",
         "17.0"
        ],
        [
         "128",
         "10",
         "1/2 bushel cartons",
         "15.0",
         "15.0",
         "15.0"
        ],
        [
         "129",
         "10",
         "1/2 bushel cartons",
         "15.0",
         "18.0",
         "16.5"
        ],
        [
         "130",
         "10",
         "1/2 bushel cartons",
         "16.0",
         "17.0",
         "16.5"
        ],
        [
         "131",
         "10",
         "1/2 bushel cartons",
         "16.0",
         "18.0",
         "17.0"
        ],
        [
         "132",
         "10",
         "1/2 bushel cartons",
         "15.0",
         "15.0",
         "15.0"
        ],
        [
         "133",
         "10",
         "1/2 bushel cartons",
         "15.0",
         "15.0",
         "15.0"
        ],
        [
         "134",
         "10",
         "1/2 bushel cartons",
         "16.0",
         "17.0",
         "16.5"
        ],
        [
         "135",
         "10",
         "1/2 bushel cartons",
         "16.0",
         "18.0",
         "17.0"
        ],
        [
         "136",
         "10",
         "1/2 bushel cartons",
         "15.0",
         "15.0",
         "15.0"
        ],
        [
         "137",
         "10",
         "1/2 bushel cartons",
         "15.0",
         "15.0",
         "15.0"
        ],
        [
         "138",
         "10",
         "1/2 bushel cartons",
         "16.0",
         "17.0",
         "16.5"
        ],
        [
         "139",
         "10",
         "1/2 bushel cartons",
         "16.0",
         "18.0",
         "17.0"
        ],
        [
         "140",
         "10",
         "1/2 bushel cartons",
         "15.0",
         "17.0",
         "16.0"
        ],
        [
         "141",
         "10",
         "1/2 bushel cartons",
         "15.0",
         "15.0",
         "15.0"
        ],
        [
         "142",
         "10",
         "1/2 bushel cartons",
         "16.0",
         "17.0",
         "16.5"
        ],
        [
         "143",
         "10",
         "1/2 bushel cartons",
         "16.0",
         "18.0",
         "17.0"
        ],
        [
         "144",
         "11",
         "1/2 bushel cartons",
         "16.0",
         "17.0",
         "16.5"
        ],
        [
         "145",
         "9",
         "1/2 bushel cartons",
         "18.0",
         "18.0",
         "18.0"
        ],
        [
         "146",
         "9",
         "1/2 bushel cartons",
         "18.0",
         "18.0",
         "18.0"
        ],
        [
         "147",
         "9",
         "1/2 bushel cartons",
         "18.0",
         "18.0",
         "18.0"
        ],
        [
         "148",
         "9",
         "1/2 bushel cartons",
         "18.0",
         "18.0",
         "18.0"
        ],
        [
         "149",
         "9",
         "1/2 bushel cartons",
         "18.0",
         "18.0",
         "18.0"
        ]
       ],
       "shape": {
        "columns": 5,
        "rows": 415
       }
      },
      "text/html": [
       "<div>\n",
       "<style scoped>\n",
       "    .dataframe tbody tr th:only-of-type {\n",
       "        vertical-align: middle;\n",
       "    }\n",
       "\n",
       "    .dataframe tbody tr th {\n",
       "        vertical-align: top;\n",
       "    }\n",
       "\n",
       "    .dataframe thead th {\n",
       "        text-align: right;\n",
       "    }\n",
       "</style>\n",
       "<table border=\"1\" class=\"dataframe\">\n",
       "  <thead>\n",
       "    <tr style=\"text-align: right;\">\n",
       "      <th></th>\n",
       "      <th>Month</th>\n",
       "      <th>Package</th>\n",
       "      <th>Low Price</th>\n",
       "      <th>High Price</th>\n",
       "      <th>Price</th>\n",
       "    </tr>\n",
       "  </thead>\n",
       "  <tbody>\n",
       "    <tr>\n",
       "      <th>70</th>\n",
       "      <td>9</td>\n",
       "      <td>1 1/9 bushel cartons</td>\n",
       "      <td>15.00</td>\n",
       "      <td>15.0</td>\n",
       "      <td>15.000</td>\n",
       "    </tr>\n",
       "    <tr>\n",
       "      <th>71</th>\n",
       "      <td>9</td>\n",
       "      <td>1 1/9 bushel cartons</td>\n",
       "      <td>18.00</td>\n",
       "      <td>18.0</td>\n",
       "      <td>18.000</td>\n",
       "    </tr>\n",
       "    <tr>\n",
       "      <th>72</th>\n",
       "      <td>10</td>\n",
       "      <td>1 1/9 bushel cartons</td>\n",
       "      <td>18.00</td>\n",
       "      <td>18.0</td>\n",
       "      <td>18.000</td>\n",
       "    </tr>\n",
       "    <tr>\n",
       "      <th>73</th>\n",
       "      <td>10</td>\n",
       "      <td>1 1/9 bushel cartons</td>\n",
       "      <td>17.00</td>\n",
       "      <td>17.0</td>\n",
       "      <td>17.000</td>\n",
       "    </tr>\n",
       "    <tr>\n",
       "      <th>74</th>\n",
       "      <td>10</td>\n",
       "      <td>1 1/9 bushel cartons</td>\n",
       "      <td>15.00</td>\n",
       "      <td>15.0</td>\n",
       "      <td>15.000</td>\n",
       "    </tr>\n",
       "    <tr>\n",
       "      <th>...</th>\n",
       "      <td>...</td>\n",
       "      <td>...</td>\n",
       "      <td>...</td>\n",
       "      <td>...</td>\n",
       "      <td>...</td>\n",
       "    </tr>\n",
       "    <tr>\n",
       "      <th>1738</th>\n",
       "      <td>9</td>\n",
       "      <td>1/2 bushel cartons</td>\n",
       "      <td>15.00</td>\n",
       "      <td>15.0</td>\n",
       "      <td>15.000</td>\n",
       "    </tr>\n",
       "    <tr>\n",
       "      <th>1739</th>\n",
       "      <td>9</td>\n",
       "      <td>1/2 bushel cartons</td>\n",
       "      <td>13.75</td>\n",
       "      <td>15.0</td>\n",
       "      <td>14.375</td>\n",
       "    </tr>\n",
       "    <tr>\n",
       "      <th>1740</th>\n",
       "      <td>9</td>\n",
       "      <td>1/2 bushel cartons</td>\n",
       "      <td>10.75</td>\n",
       "      <td>15.0</td>\n",
       "      <td>12.875</td>\n",
       "    </tr>\n",
       "    <tr>\n",
       "      <th>1741</th>\n",
       "      <td>9</td>\n",
       "      <td>1/2 bushel cartons</td>\n",
       "      <td>12.00</td>\n",
       "      <td>12.0</td>\n",
       "      <td>12.000</td>\n",
       "    </tr>\n",
       "    <tr>\n",
       "      <th>1742</th>\n",
       "      <td>9</td>\n",
       "      <td>1/2 bushel cartons</td>\n",
       "      <td>12.00</td>\n",
       "      <td>12.0</td>\n",
       "      <td>12.000</td>\n",
       "    </tr>\n",
       "  </tbody>\n",
       "</table>\n",
       "<p>415 rows × 5 columns</p>\n",
       "</div>"
      ],
      "text/plain": [
       "      Month               Package  Low Price  High Price   Price\n",
       "70        9  1 1/9 bushel cartons      15.00        15.0  15.000\n",
       "71        9  1 1/9 bushel cartons      18.00        18.0  18.000\n",
       "72       10  1 1/9 bushel cartons      18.00        18.0  18.000\n",
       "73       10  1 1/9 bushel cartons      17.00        17.0  17.000\n",
       "74       10  1 1/9 bushel cartons      15.00        15.0  15.000\n",
       "...     ...                   ...        ...         ...     ...\n",
       "1738      9    1/2 bushel cartons      15.00        15.0  15.000\n",
       "1739      9    1/2 bushel cartons      13.75        15.0  14.375\n",
       "1740      9    1/2 bushel cartons      10.75        15.0  12.875\n",
       "1741      9    1/2 bushel cartons      12.00        12.0  12.000\n",
       "1742      9    1/2 bushel cartons      12.00        12.0  12.000\n",
       "\n",
       "[415 rows x 5 columns]"
      ]
     },
     "execution_count": 8,
     "metadata": {},
     "output_type": "execute_result"
    }
   ],
   "source": [
    "#new dataframe\n",
    "new_pumpkins = pd.DataFrame({'Month':month,'Package':pumpkins['Package'],'Low Price':pumpkins['Low Price'],'High Price': pumpkins['High Price'],'Price': price})\n",
    "new_pumpkins"
   ]
  },
  {
   "cell_type": "markdown",
   "metadata": {},
   "source": [
    "If you look at the Package column, pumpkins are sold in many different configurations. Some are sold in '1 1/9 bushel' measures, and some in '1/2 bushel' measures, some per pumpkin, some per pound, and some in big boxes with varying widths."
   ]
  },
  {
   "cell_type": "code",
   "execution_count": 11,
   "metadata": {},
   "outputs": [],
   "source": [
    "#convert the price of all cell prices by 1 1/9 by dividing 1 1/9\n",
    "new_pumpkins.loc[new_pumpkins['Package'].str.contains('1 1/9'),'Price']=(price/(1+1/9)).round(1)\n",
    "#convert the price of all cell prices by 1/2 by dividing 1/2\n",
    "new_pumpkins.loc[new_pumpkins['Package'].str.contains('1/2'),'Price']=(price/(1/2)).round(1)"
   ]
  },
  {
   "cell_type": "code",
   "execution_count": 12,
   "metadata": {},
   "outputs": [
    {
     "data": {
      "application/vnd.microsoft.datawrangler.viewer.v0+json": {
       "columns": [
        {
         "name": "index",
         "rawType": "int64",
         "type": "integer"
        },
        {
         "name": "Month",
         "rawType": "int32",
         "type": "integer"
        },
        {
         "name": "Package",
         "rawType": "object",
         "type": "string"
        },
        {
         "name": "Low Price",
         "rawType": "float64",
         "type": "float"
        },
        {
         "name": "High Price",
         "rawType": "float64",
         "type": "float"
        },
        {
         "name": "Price",
         "rawType": "float64",
         "type": "float"
        }
       ],
       "ref": "6af57cb0-7c45-4f66-82d4-0cbb1a4e4ada",
       "rows": [
        [
         "70",
         "9",
         "1 1/9 bushel cartons",
         "15.0",
         "15.0",
         "13.5"
        ],
        [
         "71",
         "9",
         "1 1/9 bushel cartons",
         "18.0",
         "18.0",
         "16.2"
        ],
        [
         "72",
         "10",
         "1 1/9 bushel cartons",
         "18.0",
         "18.0",
         "16.2"
        ],
        [
         "73",
         "10",
         "1 1/9 bushel cartons",
         "17.0",
         "17.0",
         "15.3"
        ],
        [
         "74",
         "10",
         "1 1/9 bushel cartons",
         "15.0",
         "15.0",
         "13.5"
        ]
       ],
       "shape": {
        "columns": 5,
        "rows": 5
       }
      },
      "text/html": [
       "<div>\n",
       "<style scoped>\n",
       "    .dataframe tbody tr th:only-of-type {\n",
       "        vertical-align: middle;\n",
       "    }\n",
       "\n",
       "    .dataframe tbody tr th {\n",
       "        vertical-align: top;\n",
       "    }\n",
       "\n",
       "    .dataframe thead th {\n",
       "        text-align: right;\n",
       "    }\n",
       "</style>\n",
       "<table border=\"1\" class=\"dataframe\">\n",
       "  <thead>\n",
       "    <tr style=\"text-align: right;\">\n",
       "      <th></th>\n",
       "      <th>Month</th>\n",
       "      <th>Package</th>\n",
       "      <th>Low Price</th>\n",
       "      <th>High Price</th>\n",
       "      <th>Price</th>\n",
       "    </tr>\n",
       "  </thead>\n",
       "  <tbody>\n",
       "    <tr>\n",
       "      <th>70</th>\n",
       "      <td>9</td>\n",
       "      <td>1 1/9 bushel cartons</td>\n",
       "      <td>15.0</td>\n",
       "      <td>15.0</td>\n",
       "      <td>13.5</td>\n",
       "    </tr>\n",
       "    <tr>\n",
       "      <th>71</th>\n",
       "      <td>9</td>\n",
       "      <td>1 1/9 bushel cartons</td>\n",
       "      <td>18.0</td>\n",
       "      <td>18.0</td>\n",
       "      <td>16.2</td>\n",
       "    </tr>\n",
       "    <tr>\n",
       "      <th>72</th>\n",
       "      <td>10</td>\n",
       "      <td>1 1/9 bushel cartons</td>\n",
       "      <td>18.0</td>\n",
       "      <td>18.0</td>\n",
       "      <td>16.2</td>\n",
       "    </tr>\n",
       "    <tr>\n",
       "      <th>73</th>\n",
       "      <td>10</td>\n",
       "      <td>1 1/9 bushel cartons</td>\n",
       "      <td>17.0</td>\n",
       "      <td>17.0</td>\n",
       "      <td>15.3</td>\n",
       "    </tr>\n",
       "    <tr>\n",
       "      <th>74</th>\n",
       "      <td>10</td>\n",
       "      <td>1 1/9 bushel cartons</td>\n",
       "      <td>15.0</td>\n",
       "      <td>15.0</td>\n",
       "      <td>13.5</td>\n",
       "    </tr>\n",
       "  </tbody>\n",
       "</table>\n",
       "</div>"
      ],
      "text/plain": [
       "    Month               Package  Low Price  High Price  Price\n",
       "70      9  1 1/9 bushel cartons       15.0        15.0   13.5\n",
       "71      9  1 1/9 bushel cartons       18.0        18.0   16.2\n",
       "72     10  1 1/9 bushel cartons       18.0        18.0   16.2\n",
       "73     10  1 1/9 bushel cartons       17.0        17.0   15.3\n",
       "74     10  1 1/9 bushel cartons       15.0        15.0   13.5"
      ]
     },
     "execution_count": 12,
     "metadata": {},
     "output_type": "execute_result"
    }
   ],
   "source": [
    "new_pumpkins.head()"
   ]
  },
  {
   "cell_type": "code",
   "execution_count": null,
   "metadata": {},
   "outputs": [
    {
     "data": {
      "image/png": "[encoded data removed]",
      "text/plain": [
       "<Figure size 432x288 with 1 Axes>"
      ]
     },
     "metadata": {
      "needs_background": "light"
     },
     "output_type": "display_data"
    }
   ],
   "source": [
    "#values we want to plot\n",
    "price = new_pumpkins['Price']\n",
    "month = new_pumpkins['Month']\n",
    "plt.scatter(price, month)\n",
    "plt.show()\n",
    "\n",
    "# It's not particularly useful as all it does is display in your data as a spread of points in a given month."
   ]
  },
  {
   "cell_type": "code",
   "execution_count": null,
   "metadata": {},
   "outputs": [
    {
     "data": {
      "text/plain": [
       "Text(0, 0.5, 'Pumpkin price')"
      ]
     },
     "execution_count": 16,
     "metadata": {},
     "output_type": "execute_result"
    },
    {
     "data": {
      "image/png": "[encoded data removed]",
      "text/plain": [
       "<Figure size 432x288 with 1 Axes>"
      ]
     },
     "metadata": {
      "needs_background": "light"
     },
     "output_type": "display_data"
    }
   ],
   "source": [
    "new_pumpkins.groupby(['Month'])['Price'].mean().plot(kind='bar')\n",
    "# group the data by month, get the av price within each month and plot the data using bar chart\n",
    "plt.ylabel('Pumpkin price')\n",
    "# This is a more useful data visualization! It seems to indicate that the highest price for pumpkins occurs in September and October."
   ]
  }
 ],
 "metadata": {
  "kernelspec": {
   "display_name": "Python 3",
   "language": "python",
   "name": "python3"
  },
  "language_info": {
   "codemirror_mode": {
    "name": "ipython",
    "version": 3
   },
   "file_extension": ".py",
   "mimetype": "text/x-python",
   "name": "python",
   "nbconvert_exporter": "python",
   "pygments_lexer": "ipython3",
   "version": "3.10.5"
  },
  "orig_nbformat": 2
 },
 "nbformat": 4,
 "nbformat_minor": 2
}
